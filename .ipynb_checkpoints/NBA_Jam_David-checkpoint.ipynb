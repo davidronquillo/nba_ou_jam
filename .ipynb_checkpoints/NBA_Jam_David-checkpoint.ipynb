{
 "cells": [
  {
   "cell_type": "code",
   "execution_count": 146,
   "metadata": {},
   "outputs": [],
   "source": [
    "import pandas as pd\n",
    "import numpy as np\n",
    "import matplotlib.pyplot as plt\n",
    "import matplotlib.ticker as ticker\n",
    "from datetime import date\n",
    "import requests\n",
    "\n",
    "import seaborn as sns\n",
    "sns.set()\n",
    "\n",
    "import nba_api\n",
    "from nba_api.stats.static import teams\n",
    "from nba_api.stats.endpoints import leaguegamefinder"
   ]
  },
  {
   "cell_type": "code",
   "execution_count": 2,
   "metadata": {},
   "outputs": [],
   "source": [
    "#2015-2016 regular season start and end dates\n",
    "start_15_16 = '2015-10-27'\n",
    "end_15_16 = '2016-04-13'\n",
    "\n",
    "#2016-2017 regular season start and end dates\n",
    "start_16_17 = '2016-10-25'\n",
    "end_16_17 = '2017-04-12'\n",
    "\n",
    "#2016-2017 regular season start and end dates\n",
    "start_17_18 = '2017-10-17'\n",
    "end_17_18 = '2018-04-11'\n",
    "\n",
    "#2018-2019 regular season start and end dates\n",
    "start_18_19 = '2018-10-16'\n",
    "end_18_19 = '2019-04-10'"
   ]
  },
  {
   "cell_type": "code",
   "execution_count": 3,
   "metadata": {},
   "outputs": [],
   "source": [
    "teams_df = pd.DataFrame(teams.get_teams())\n",
    "teams_df.rename(columns={'id':'TEAM_ID'}, inplace=True)\n",
    "\n",
    "#teams_df.head()"
   ]
  },
  {
   "cell_type": "code",
   "execution_count": 4,
   "metadata": {
    "scrolled": true
   },
   "outputs": [],
   "source": [
    "# Get **all** the games so we can filter to an individual GAME_ID\n",
    "result = leaguegamefinder.LeagueGameFinder()\n",
    "all_games = result.get_data_frames()[0]\n",
    "\n",
    "#all_games.head()"
   ]
  },
  {
   "cell_type": "code",
   "execution_count": 127,
   "metadata": {
    "scrolled": false
   },
   "outputs": [],
   "source": [
    "#match NBA teams from 'teams_df' with 'all_games' to remove\n",
    "#all non NBA-games from 'all_games' \n",
    "nba_games = pd.merge(teams_df, all_games, on = 'TEAM_ID', how = 'inner')\n",
    "\n",
    "#remove columns in merged df coming from 'teams_df'\n",
    "nba_games = nba_games.drop(list(teams_df.columns)[1:],1)\n",
    "\n",
    "#nba_games.head(3)"
   ]
  },
  {
   "cell_type": "code",
   "execution_count": 6,
   "metadata": {},
   "outputs": [],
   "source": [
    "#function searches rows in 'nba_games' df sharing same 'GAME_ID' and sums PTS\n",
    "#to obtain sum of final score\n",
    "def total_pts_game(id_game):\n",
    "    return np.sum(nba_games.loc[nba_games['GAME_ID'] == str(id_game)][['PTS']])"
   ]
  },
  {
   "cell_type": "code",
   "execution_count": 7,
   "metadata": {},
   "outputs": [],
   "source": [
    "#e.g. of applying above function\n",
    "#total_pts_game(nba_games['GAME_ID'][0])"
   ]
  },
  {
   "cell_type": "code",
   "execution_count": 8,
   "metadata": {},
   "outputs": [],
   "source": [
    "#uses 'total_pts_game' function to create df of sum of final score for\n",
    "#all games in 'nba_games' df\n",
    "total_points = pd.DataFrame(list(map(lambda x : total_pts_game(nba_games['GAME_ID'][x]), list(range(len(nba_games))))))"
   ]
  },
  {
   "cell_type": "code",
   "execution_count": 107,
   "metadata": {},
   "outputs": [],
   "source": [
    "#appends new column to 'nba_games' df containing combined final score per game\n",
    "nba_games['COMBINED_FINAL_SCORE'] = total_points\n",
    "#nba_games.head(3)"
   ]
  },
  {
   "cell_type": "code",
   "execution_count": 108,
   "metadata": {},
   "outputs": [
    {
     "data": {
      "text/plain": [
       "Index(['TEAM_ID', 'SEASON_ID', 'TEAM_ABBREVIATION', 'TEAM_NAME', 'GAME_ID',\n",
       "       'GAME_DATE', 'MATCHUP', 'WL', 'MIN', 'PTS', 'FGM', 'FGA', 'FG_PCT',\n",
       "       'FG3M', 'FG3A', 'FG3_PCT', 'FTM', 'FTA', 'FT_PCT', 'OREB', 'DREB',\n",
       "       'REB', 'AST', 'STL', 'BLK', 'TOV', 'PF', 'PLUS_MINUS',\n",
       "       'COMBINED_FINAL_SCORE'],\n",
       "      dtype='object')"
      ]
     },
     "execution_count": 108,
     "metadata": {},
     "output_type": "execute_result"
    }
   ],
   "source": [
    "nba_games.columns"
   ]
  },
  {
   "cell_type": "code",
   "execution_count": 10,
   "metadata": {},
   "outputs": [],
   "source": [
    "#mask to filter dates within range\n",
    "mask_15_16 = (nba_games['GAME_DATE'] >= start_15_16) & (nba_games['GAME_DATE'] <= end_15_16)\n",
    "mask_16_17 = (nba_games['GAME_DATE'] >= start_16_17) & (nba_games['GAME_DATE'] <= end_16_17)\n",
    "mask_17_18 = (nba_games['GAME_DATE'] >= start_17_18) & (nba_games['GAME_DATE'] <= end_17_18)\n",
    "mask_18_19 = (nba_games['GAME_DATE'] >= start_18_19) & (nba_games['GAME_DATE'] <= end_18_19)"
   ]
  },
  {
   "cell_type": "code",
   "execution_count": 11,
   "metadata": {},
   "outputs": [],
   "source": [
    "#regular season games held between given seasons\n",
    "nba_games_15_16 = nba_games.loc[mask_15_16]\n",
    "nba_games_16_17 = nba_games.loc[mask_16_17]\n",
    "nba_games_17_18 = nba_games.loc[mask_17_18]\n",
    "nba_games_18_19 = nba_games.loc[mask_18_19]"
   ]
  },
  {
   "cell_type": "code",
   "execution_count": 106,
   "metadata": {},
   "outputs": [],
   "source": [
    "#nba_games_15_16.head()"
   ]
  },
  {
   "cell_type": "code",
   "execution_count": 139,
   "metadata": {},
   "outputs": [],
   "source": [
    "#store respective df seasons as elements of list from 0-3\n",
    "#2015-16 -> [0]\n",
    "#2016-17 -> [1]\n",
    "#2017-18 -> [2]\n",
    "#2018-19 -> [3]\n",
    "\n",
    "nba_seasons = [nba_games_15_16, nba_games_16_17, nba_games_17_18, nba_games_18_19]"
   ]
  },
  {
   "cell_type": "code",
   "execution_count": 138,
   "metadata": {},
   "outputs": [
    {
     "data": {
      "text/html": [
       "<div>\n",
       "<style scoped>\n",
       "    .dataframe tbody tr th:only-of-type {\n",
       "        vertical-align: middle;\n",
       "    }\n",
       "\n",
       "    .dataframe tbody tr th {\n",
       "        vertical-align: top;\n",
       "    }\n",
       "\n",
       "    .dataframe thead th {\n",
       "        text-align: right;\n",
       "    }\n",
       "</style>\n",
       "<table border=\"1\" class=\"dataframe\">\n",
       "  <thead>\n",
       "    <tr style=\"text-align: right;\">\n",
       "      <th></th>\n",
       "      <th>TEAM_ID</th>\n",
       "      <th>SEASON_ID</th>\n",
       "      <th>TEAM_ABBREVIATION</th>\n",
       "      <th>TEAM_NAME</th>\n",
       "      <th>GAME_ID</th>\n",
       "      <th>GAME_DATE</th>\n",
       "      <th>MATCHUP</th>\n",
       "      <th>WL</th>\n",
       "      <th>MIN</th>\n",
       "      <th>PTS</th>\n",
       "      <th>...</th>\n",
       "      <th>OREB</th>\n",
       "      <th>DREB</th>\n",
       "      <th>REB</th>\n",
       "      <th>AST</th>\n",
       "      <th>STL</th>\n",
       "      <th>BLK</th>\n",
       "      <th>TOV</th>\n",
       "      <th>PF</th>\n",
       "      <th>PLUS_MINUS</th>\n",
       "      <th>COMBINED_FINAL_SCORE</th>\n",
       "    </tr>\n",
       "  </thead>\n",
       "  <tbody>\n",
       "    <tr>\n",
       "      <th>377</th>\n",
       "      <td>1610612737</td>\n",
       "      <td>22015</td>\n",
       "      <td>ATL</td>\n",
       "      <td>Atlanta Hawks</td>\n",
       "      <td>0021501221</td>\n",
       "      <td>2016-04-13</td>\n",
       "      <td>ATL @ WAS</td>\n",
       "      <td>L</td>\n",
       "      <td>240</td>\n",
       "      <td>98</td>\n",
       "      <td>...</td>\n",
       "      <td>9</td>\n",
       "      <td>38</td>\n",
       "      <td>47</td>\n",
       "      <td>22</td>\n",
       "      <td>13</td>\n",
       "      <td>5</td>\n",
       "      <td>22</td>\n",
       "      <td>21</td>\n",
       "      <td>-11.0</td>\n",
       "      <td>207</td>\n",
       "    </tr>\n",
       "    <tr>\n",
       "      <th>378</th>\n",
       "      <td>1610612737</td>\n",
       "      <td>22015</td>\n",
       "      <td>ATL</td>\n",
       "      <td>Atlanta Hawks</td>\n",
       "      <td>0021501203</td>\n",
       "      <td>2016-04-11</td>\n",
       "      <td>ATL @ CLE</td>\n",
       "      <td>L</td>\n",
       "      <td>240</td>\n",
       "      <td>94</td>\n",
       "      <td>...</td>\n",
       "      <td>10</td>\n",
       "      <td>32</td>\n",
       "      <td>42</td>\n",
       "      <td>23</td>\n",
       "      <td>8</td>\n",
       "      <td>6</td>\n",
       "      <td>15</td>\n",
       "      <td>18</td>\n",
       "      <td>-15.0</td>\n",
       "      <td>203</td>\n",
       "    </tr>\n",
       "    <tr>\n",
       "      <th>379</th>\n",
       "      <td>1610612737</td>\n",
       "      <td>22015</td>\n",
       "      <td>ATL</td>\n",
       "      <td>Atlanta Hawks</td>\n",
       "      <td>0021501188</td>\n",
       "      <td>2016-04-09</td>\n",
       "      <td>ATL vs. BOS</td>\n",
       "      <td>W</td>\n",
       "      <td>240</td>\n",
       "      <td>118</td>\n",
       "      <td>...</td>\n",
       "      <td>5</td>\n",
       "      <td>39</td>\n",
       "      <td>44</td>\n",
       "      <td>31</td>\n",
       "      <td>10</td>\n",
       "      <td>10</td>\n",
       "      <td>17</td>\n",
       "      <td>22</td>\n",
       "      <td>11.0</td>\n",
       "      <td>225</td>\n",
       "    </tr>\n",
       "  </tbody>\n",
       "</table>\n",
       "<p>3 rows × 29 columns</p>\n",
       "</div>"
      ],
      "text/plain": [
       "        TEAM_ID SEASON_ID TEAM_ABBREVIATION      TEAM_NAME     GAME_ID  \\\n",
       "377  1610612737     22015               ATL  Atlanta Hawks  0021501221   \n",
       "378  1610612737     22015               ATL  Atlanta Hawks  0021501203   \n",
       "379  1610612737     22015               ATL  Atlanta Hawks  0021501188   \n",
       "\n",
       "      GAME_DATE      MATCHUP WL  MIN  PTS  ...  OREB  DREB  REB  AST  STL  \\\n",
       "377  2016-04-13    ATL @ WAS  L  240   98  ...     9    38   47   22   13   \n",
       "378  2016-04-11    ATL @ CLE  L  240   94  ...    10    32   42   23    8   \n",
       "379  2016-04-09  ATL vs. BOS  W  240  118  ...     5    39   44   31   10   \n",
       "\n",
       "     BLK  TOV  PF  PLUS_MINUS  COMBINED_FINAL_SCORE  \n",
       "377    5   22  21       -11.0                   207  \n",
       "378    6   15  18       -15.0                   203  \n",
       "379   10   17  22        11.0                   225  \n",
       "\n",
       "[3 rows x 29 columns]"
      ]
     },
     "execution_count": 138,
     "metadata": {},
     "output_type": "execute_result"
    }
   ],
   "source": [
    "nba_seasons[0].head(3)"
   ]
  },
  {
   "cell_type": "code",
   "execution_count": 111,
   "metadata": {},
   "outputs": [],
   "source": [
    "def team_stats(team_name, season_no):\n",
    "    return nba_seasons[season_no].loc[nba_games['TEAM_ABBREVIATION'] == team_name]"
   ]
  },
  {
   "cell_type": "code",
   "execution_count": 141,
   "metadata": {},
   "outputs": [
    {
     "data": {
      "text/html": [
       "<div>\n",
       "<style scoped>\n",
       "    .dataframe tbody tr th:only-of-type {\n",
       "        vertical-align: middle;\n",
       "    }\n",
       "\n",
       "    .dataframe tbody tr th {\n",
       "        vertical-align: top;\n",
       "    }\n",
       "\n",
       "    .dataframe thead th {\n",
       "        text-align: right;\n",
       "    }\n",
       "</style>\n",
       "<table border=\"1\" class=\"dataframe\">\n",
       "  <thead>\n",
       "    <tr style=\"text-align: right;\">\n",
       "      <th></th>\n",
       "      <th>TEAM_ID</th>\n",
       "      <th>SEASON_ID</th>\n",
       "      <th>TEAM_ABBREVIATION</th>\n",
       "      <th>TEAM_NAME</th>\n",
       "      <th>GAME_ID</th>\n",
       "      <th>GAME_DATE</th>\n",
       "      <th>MATCHUP</th>\n",
       "      <th>WL</th>\n",
       "      <th>MIN</th>\n",
       "      <th>PTS</th>\n",
       "      <th>...</th>\n",
       "      <th>OREB</th>\n",
       "      <th>DREB</th>\n",
       "      <th>REB</th>\n",
       "      <th>AST</th>\n",
       "      <th>STL</th>\n",
       "      <th>BLK</th>\n",
       "      <th>TOV</th>\n",
       "      <th>PF</th>\n",
       "      <th>PLUS_MINUS</th>\n",
       "      <th>COMBINED_FINAL_SCORE</th>\n",
       "    </tr>\n",
       "  </thead>\n",
       "  <tbody>\n",
       "    <tr>\n",
       "      <th>6640</th>\n",
       "      <td>1610612747</td>\n",
       "      <td>22015</td>\n",
       "      <td>LAL</td>\n",
       "      <td>Los Angeles Lakers</td>\n",
       "      <td>0021501228</td>\n",
       "      <td>2016-04-13</td>\n",
       "      <td>LAL vs. UTA</td>\n",
       "      <td>W</td>\n",
       "      <td>239</td>\n",
       "      <td>101</td>\n",
       "      <td>...</td>\n",
       "      <td>8</td>\n",
       "      <td>39</td>\n",
       "      <td>47</td>\n",
       "      <td>19</td>\n",
       "      <td>6</td>\n",
       "      <td>3</td>\n",
       "      <td>13</td>\n",
       "      <td>17</td>\n",
       "      <td>5.0</td>\n",
       "      <td>197</td>\n",
       "    </tr>\n",
       "    <tr>\n",
       "      <th>6641</th>\n",
       "      <td>1610612747</td>\n",
       "      <td>22015</td>\n",
       "      <td>LAL</td>\n",
       "      <td>Los Angeles Lakers</td>\n",
       "      <td>0021501209</td>\n",
       "      <td>2016-04-11</td>\n",
       "      <td>LAL @ OKC</td>\n",
       "      <td>L</td>\n",
       "      <td>240</td>\n",
       "      <td>79</td>\n",
       "      <td>...</td>\n",
       "      <td>10</td>\n",
       "      <td>38</td>\n",
       "      <td>48</td>\n",
       "      <td>15</td>\n",
       "      <td>8</td>\n",
       "      <td>1</td>\n",
       "      <td>15</td>\n",
       "      <td>20</td>\n",
       "      <td>-33.0</td>\n",
       "      <td>191</td>\n",
       "    </tr>\n",
       "    <tr>\n",
       "      <th>6642</th>\n",
       "      <td>1610612747</td>\n",
       "      <td>22015</td>\n",
       "      <td>LAL</td>\n",
       "      <td>Los Angeles Lakers</td>\n",
       "      <td>0021501195</td>\n",
       "      <td>2016-04-10</td>\n",
       "      <td>LAL @ HOU</td>\n",
       "      <td>L</td>\n",
       "      <td>239</td>\n",
       "      <td>110</td>\n",
       "      <td>...</td>\n",
       "      <td>7</td>\n",
       "      <td>33</td>\n",
       "      <td>40</td>\n",
       "      <td>25</td>\n",
       "      <td>10</td>\n",
       "      <td>3</td>\n",
       "      <td>18</td>\n",
       "      <td>15</td>\n",
       "      <td>-20.0</td>\n",
       "      <td>240</td>\n",
       "    </tr>\n",
       "  </tbody>\n",
       "</table>\n",
       "<p>3 rows × 29 columns</p>\n",
       "</div>"
      ],
      "text/plain": [
       "         TEAM_ID SEASON_ID TEAM_ABBREVIATION           TEAM_NAME     GAME_ID  \\\n",
       "6640  1610612747     22015               LAL  Los Angeles Lakers  0021501228   \n",
       "6641  1610612747     22015               LAL  Los Angeles Lakers  0021501209   \n",
       "6642  1610612747     22015               LAL  Los Angeles Lakers  0021501195   \n",
       "\n",
       "       GAME_DATE      MATCHUP WL  MIN  PTS  ...  OREB  DREB  REB  AST  STL  \\\n",
       "6640  2016-04-13  LAL vs. UTA  W  239  101  ...     8    39   47   19    6   \n",
       "6641  2016-04-11    LAL @ OKC  L  240   79  ...    10    38   48   15    8   \n",
       "6642  2016-04-10    LAL @ HOU  L  239  110  ...     7    33   40   25   10   \n",
       "\n",
       "      BLK  TOV  PF  PLUS_MINUS  COMBINED_FINAL_SCORE  \n",
       "6640    3   13  17         5.0                   197  \n",
       "6641    1   15  20       -33.0                   191  \n",
       "6642    3   18  15       -20.0                   240  \n",
       "\n",
       "[3 rows x 29 columns]"
      ]
     },
     "execution_count": 141,
     "metadata": {},
     "output_type": "execute_result"
    }
   ],
   "source": [
    "lakers = team_stats('LAL', 0).head(3)\n",
    "lakers"
   ]
  },
  {
   "cell_type": "code",
   "execution_count": 122,
   "metadata": {},
   "outputs": [],
   "source": [
    "# plt.plot(list(range(len(lakers))), list(lakers['PTS'].rolling(1).mean()))\n",
    "# plt.show()"
   ]
  },
  {
   "cell_type": "markdown",
   "metadata": {},
   "source": [
    "# Team Metrics"
   ]
  },
  {
   "cell_type": "code",
   "execution_count": 178,
   "metadata": {},
   "outputs": [],
   "source": [
    "#function: input season & requested stat will produce boxplot of teams\n",
    "#in descending order\n",
    "def season_boxplot(season, stat):\n",
    "    descend = nba_seasons[season].groupby(by=['TEAM_ABBREVIATION'])[stat].median().sort_values(ascending=False).index\n",
    "    fig, ax = plt.subplots(1,1, figsize=(15,10))\n",
    "    sns.boxplot(data = nba_seasons[season], x=\"TEAM_ABBREVIATION\", y=stat, ax = ax, order=descend)\n",
    "    plt.xlabel(\"Team\", fontsize = 16)\n",
    "    plt.ylabel(stat + \" by Team\", fontsize = 16)\n",
    "    plt.show()"
   ]
  },
  {
   "cell_type": "code",
   "execution_count": 179,
   "metadata": {},
   "outputs": [
    {
     "data": {
      "image/png": "[encoded data removed]",
      "text/plain": [
       "<Figure size 1080x720 with 1 Axes>"
      ]
     },
     "metadata": {},
     "output_type": "display_data"
    }
   ],
   "source": [
    "season = 0\n",
    "stat = 'PTS'\n",
    "season_boxplot(season, stat)"
   ]
  },
  {
   "cell_type": "code",
   "execution_count": null,
   "metadata": {},
   "outputs": [],
   "source": []
  },
  {
   "cell_type": "code",
   "execution_count": null,
   "metadata": {},
   "outputs": [],
   "source": []
  },
  {
   "cell_type": "code",
   "execution_count": null,
   "metadata": {},
   "outputs": [],
   "source": []
  },
  {
   "cell_type": "code",
   "execution_count": null,
   "metadata": {},
   "outputs": [],
   "source": []
  },
  {
   "cell_type": "code",
   "execution_count": null,
   "metadata": {},
   "outputs": [],
   "source": []
  },
  {
   "cell_type": "code",
   "execution_count": null,
   "metadata": {},
   "outputs": [],
   "source": []
  },
  {
   "cell_type": "code",
   "execution_count": null,
   "metadata": {},
   "outputs": [],
   "source": []
  },
  {
   "cell_type": "code",
   "execution_count": null,
   "metadata": {},
   "outputs": [],
   "source": []
  },
  {
   "cell_type": "code",
   "execution_count": null,
   "metadata": {},
   "outputs": [],
   "source": []
  }
 ],
 "metadata": {
  "kernelspec": {
   "display_name": "Python 3",
   "language": "python",
   "name": "python3"
  },
  "language_info": {
   "codemirror_mode": {
    "name": "ipython",
    "version": 3
   },
   "file_extension": ".py",
   "mimetype": "text/x-python",
   "name": "python",
   "nbconvert_exporter": "python",
   "pygments_lexer": "ipython3",
   "version": "3.6.8"
  }
 },
 "nbformat": 4,
 "nbformat_minor": 4
}
