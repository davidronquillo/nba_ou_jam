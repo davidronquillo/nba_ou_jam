{
 "cells": [
  {
   "cell_type": "code",
   "execution_count": 1,
   "metadata": {},
   "outputs": [],
   "source": [
    "#!pip install catboost\n",
    "#!pip install xgboost\n",
    "#!pip install lightgbm"
   ]
  },
  {
   "cell_type": "code",
   "execution_count": 2,
   "metadata": {
    "scrolled": true
   },
   "outputs": [],
   "source": [
    "import pandas as pd\n",
    "import numpy as np\n",
    "import matplotlib as mpl\n",
    "import matplotlib.pyplot as plt\n",
    "import matplotlib.ticker as ticker\n",
    "from datetime import date\n",
    "import requests\n",
    "from itertools import combinations\n",
    "from scipy.stats import pearsonr, chi2_contingency\n",
    "from scipy.stats import poisson\n",
    "from catboost import Pool, CatBoostClassifier\n",
    "from sklearn.model_selection import train_test_split\n",
    "from sklearn.metrics import accuracy_score, precision_score, recall_score, confusion_matrix, precision_recall_curve, roc_curve\n",
    "from sklearn import preprocessing\n",
    "from sklearn.decomposition import PCA\n",
    "from sklearn.pipeline import Pipeline\n",
    "from sklearn.preprocessing import StandardScaler\n",
    "from mpl_toolkits.mplot3d import Axes3D\n",
    "from sklearn.model_selection import GridSearchCV\n",
    "from sklearn.model_selection import RandomizedSearchCV\n",
    "from time import time\n",
    "from sklearn.metrics import f1_score\n",
    "from sklearn.linear_model import LogisticRegression\n",
    "from sklearn.svm import SVC\n",
    "import xgboost as xgb\n",
    "from xgboost import plot_importance\n",
    "from sklearn.metrics import log_loss\n",
    "from sklearn.ensemble import RandomForestClassifier\n",
    "from sklearn.naive_bayes import GaussianNB\n",
    "from sklearn.neighbors import KNeighborsClassifier\n",
    "from sklearn.linear_model import LinearRegression\n",
    "from lightgbm import LGBMClassifier\n",
    "import seaborn as sns\n",
    "sns.set()"
   ]
  },
  {
   "cell_type": "code",
   "execution_count": 3,
   "metadata": {},
   "outputs": [],
   "source": [
    "#load data from sportsdatabase.com\n",
    "nbastats = pd.read_csv('nba_stats_05-19.csv')"
   ]
  },
  {
   "cell_type": "code",
   "execution_count": 4,
   "metadata": {},
   "outputs": [
    {
     "data": {
      "text/plain": [
       "(38240, 63)"
      ]
     },
     "execution_count": 4,
     "metadata": {},
     "output_type": "execute_result"
    }
   ],
   "source": [
    "nbastats.shape"
   ]
  },
  {
   "cell_type": "code",
   "execution_count": 5,
   "metadata": {},
   "outputs": [
    {
     "name": "stderr",
     "output_type": "stream",
     "text": [
      "C:\\Anaconda3\\lib\\site-packages\\ipykernel_launcher.py:6: SettingWithCopyWarning: \n",
      "A value is trying to be set on a copy of a slice from a DataFrame\n",
      "\n",
      "See the caveats in the documentation: http://pandas.pydata.org/pandas-docs/stable/user_guide/indexing.html#returning-a-view-versus-a-copy\n",
      "  \n",
      "C:\\Anaconda3\\lib\\site-packages\\pandas\\core\\indexing.py:205: SettingWithCopyWarning: \n",
      "A value is trying to be set on a copy of a slice from a DataFrame\n",
      "\n",
      "See the caveats in the documentation: http://pandas.pydata.org/pandas-docs/stable/user_guide/indexing.html#returning-a-view-versus-a-copy\n",
      "  self._setitem_with_indexer(indexer, value)\n"
     ]
    }
   ],
   "source": [
    "#make a matchup column where each matchup is the same i.e. x vs y\n",
    "nbastats['matchup'] = 0\n",
    "\n",
    "for row, index in zip(nbastats.values, nbastats.index):\n",
    "    matchup = row[1] + ' ' + row[3]\n",
    "    nbastats['matchup'][index] = matchup"
   ]
  },
  {
   "cell_type": "code",
   "execution_count": 6,
   "metadata": {},
   "outputs": [],
   "source": [
    "#make a matchup column where each matchup is the same i.e. x vs y and none are y vs x\n",
    "#nbastats['matchup'] = 0\n",
    "\n",
    "#for row, index in zip(nbastats.values, nbastats.index):\n",
    "#    matchup = row[1] + ' ' + row[3]\n",
    "#    matchups = matchup.split(' ')\n",
    "#    matchups.sort()\n",
    "#    matchupz = ' '.join(matchups)\n",
    "#    nbastats['matchup'][index] = matchupz"
   ]
  },
  {
   "cell_type": "code",
   "execution_count": 7,
   "metadata": {},
   "outputs": [],
   "source": [
    "#make column where >=finalscore-vegasline is 1 and < is 0\n",
    "nbastats['o/u'] = 0\n",
    "nbastats.loc[nbastats['o/u margin'] >= 0, 'o/u'] = 1\n",
    "nbastats.loc[nbastats['o/u margin'] < 0, 'o/u'] = 0"
   ]
  },
  {
   "cell_type": "code",
   "execution_count": 8,
   "metadata": {},
   "outputs": [],
   "source": [
    "#column for win loss stat\n",
    "nbastats['WL'] = 0\n",
    "nbastats.loc[nbastats['points'] > nbastats['op points'], 'WL'] = 1\n",
    "nbastats.loc[nbastats['points'] < nbastats['op points'], 'WL'] = -1"
   ]
  },
  {
   "cell_type": "code",
   "execution_count": 9,
   "metadata": {},
   "outputs": [],
   "source": [
    "#convert conference to number\n",
    "nbastats.loc[nbastats['conference west/east'] == 'Western', 'conference west/east'] = 1\n",
    "nbastats.loc[nbastats['conference west/east'] == 'Eastern', 'conference west/east'] = 0"
   ]
  },
  {
   "cell_type": "code",
   "execution_count": 10,
   "metadata": {},
   "outputs": [],
   "source": [
    "#convert home away to number\n",
    "nbastats.loc[nbastats['home away'] == 'home', 'home away'] = 1\n",
    "nbastats.loc[nbastats['home away'] == 'away', 'home away'] = 0"
   ]
  },
  {
   "cell_type": "code",
   "execution_count": 11,
   "metadata": {},
   "outputs": [],
   "source": [
    "#make column where >=finalscore-vegasline is 1 and < is 0\n",
    "nbastats['o/u margin class'] = 0\n",
    "\n",
    "mthresh = 10\n",
    "\n",
    "nbastats.loc[nbastats['o/u margin'] >= mthresh, 'o/u margin class'] = 1\n",
    "nbastats.loc[(nbastats['o/u margin'] < mthresh) & \n",
    "             (nbastats['o/u margin'] > -mthresh), 'o/u margin class'] = 0\n",
    "nbastats.loc[nbastats['o/u margin'] <= -mthresh, 'o/u margin class'] = -1"
   ]
  },
  {
   "cell_type": "code",
   "execution_count": null,
   "metadata": {},
   "outputs": [],
   "source": [
    "#Correlation Matrix\n",
    "corr = nbastats.corr()\n",
    "fig, ax = plt.subplots(figsize=(10,10))\n",
    "ax = sns.heatmap(\n",
    "    corr, \n",
    "    vmin=-1, vmax=1, center=0,\n",
    "    cmap=sns.diverging_palette(20, 220, n=200),\n",
    "    square=True\n",
    ")\n",
    "ax.set_xticklabels(\n",
    "    ax.get_xticklabels(),\n",
    "    rotation=45,\n",
    "    horizontalalignment='right'\n",
    ");"
   ]
  },
  {
   "cell_type": "code",
   "execution_count": 12,
   "metadata": {},
   "outputs": [],
   "source": [
    "#onehot the timezone, diision, and day columns\n",
    "nbastats = pd.get_dummies(nbastats, prefix_sep=\"__\", columns=['time zone', 'division', 'day'])"
   ]
  },
  {
   "cell_type": "code",
   "execution_count": 13,
   "metadata": {},
   "outputs": [],
   "source": [
    "#drop any nans\n",
    "#nbastats = nbastats.dropna()\n",
    "#nbastats = nbastats.reset_index(drop=True)"
   ]
  },
  {
   "cell_type": "code",
   "execution_count": 14,
   "metadata": {},
   "outputs": [
    {
     "data": {
      "text/plain": [
       "margin after the first                      0.010\n",
       "overtime                                    0.010\n",
       "margin at the half                          0.010\n",
       "margin after the third                      0.010\n",
       "percentage of points from three pointers    0.026\n",
       "three pointer percentage                    0.026\n",
       "three pointers made                         0.026\n",
       "three pointers attempted                    0.026\n",
       "steals                                      0.026\n",
       "rebounds                                    0.026\n",
       "officials                                   0.026\n",
       "offensive rebounds                          0.026\n",
       "free throw percentage                       0.026\n",
       "assists                                     0.026\n",
       "free throws made                            0.026\n",
       "blocks                                      0.026\n",
       "defensive rebounds                          0.026\n",
       "percentage of points from free throws       0.026\n",
       "field goals made                            0.026\n",
       "percentage of points from field goals       0.026\n",
       "field goals attempted                       0.026\n",
       "fouls                                       0.026\n",
       "free throws attempted                       0.026\n",
       "field goal percentage                       0.026\n",
       "turnovers                                   0.026\n",
       "points in the paint                         0.047\n",
       "fast break points                           0.047\n",
       "biggest lead                                0.047\n",
       "team rebounds                               0.560\n",
       "times tied                                  0.560\n",
       "lead changes                                0.560\n",
       "time of game                                0.560\n",
       "rest                                        1.098\n",
       "attendance                                  3.797\n",
       "dtype: float64"
      ]
     },
     "execution_count": 14,
     "metadata": {},
     "output_type": "execute_result"
    }
   ],
   "source": [
    "#percentage of nans\n",
    "nan_mean = (nbastats.isna().mean() * 100).round(3)\n",
    "nan_mean = nan_mean[nan_mean != 0].sort_values()\n",
    "nan_mean"
   ]
  },
  {
   "cell_type": "code",
   "execution_count": 15,
   "metadata": {},
   "outputs": [],
   "source": [
    "#fill numerical nans with mean from whole data set, hopefully not too much leakage\n",
    "#should use means from each season\n",
    "fill_mean = nan_mean.index.values\n",
    "nbastats[fill_mean] = nbastats[fill_mean].fillna(nbastats[fill_mean].mean())"
   ]
  },
  {
   "cell_type": "code",
   "execution_count": 16,
   "metadata": {},
   "outputs": [],
   "source": [
    "#fill cat. nans with ['NA']\n",
    "nbastats['officials'] = nbastats['officials'].fillna('NA')"
   ]
  },
  {
   "cell_type": "code",
   "execution_count": 17,
   "metadata": {},
   "outputs": [
    {
     "data": {
      "text/plain": [
       "team            31\n",
       "op team         31\n",
       "matchup        928\n",
       "officials    15038\n",
       "dtype: int64"
      ]
     },
     "execution_count": 17,
     "metadata": {},
     "output_type": "execute_result"
    }
   ],
   "source": [
    "#remaining categorical columns\n",
    "cat_feat = nbastats.select_dtypes('object').columns.values\n",
    "nbastats[cat_feat].nunique().sort_values()"
   ]
  },
  {
   "cell_type": "code",
   "execution_count": 18,
   "metadata": {},
   "outputs": [],
   "source": [
    "def highcorrelation(df, thresh):\n",
    "    num_feat = df.select_dtypes('number').columns.values\n",
    "    comb_num_feat = np.array(list(combinations(num_feat, 2)))\n",
    "    corr_num_feat = np.array([])\n",
    "\n",
    "    for comb in comb_num_feat:\n",
    "        corr = pearsonr(df[comb[0]], df[comb[1]])[0]\n",
    "        corr_num_feat = np.append(corr_num_feat, corr)\n",
    "    high_corr_num = comb_num_feat[np.abs(corr_num_feat) >= thresh]\n",
    "    return high_corr_num"
   ]
  },
  {
   "cell_type": "code",
   "execution_count": 20,
   "metadata": {},
   "outputs": [
    {
     "data": {
      "text/plain": [
       "array([['date', 'season'],\n",
       "       ['points', 'total points'],\n",
       "       ['points', 'dps'],\n",
       "       ['points', 'field goals made'],\n",
       "       ['op points', 'total points'],\n",
       "       ['op points', 'dpa'],\n",
       "       ['o/u margin', 'dpa'],\n",
       "       ['o/u margin', 'dps'],\n",
       "       ['o/u margin', 'o/u margin class'],\n",
       "       ['ats margin', 'margin'],\n",
       "       ['biggest lead', 'margin'],\n",
       "       ['biggest lead', 'margin after the third'],\n",
       "       ['conference west/east', 'time zone__E'],\n",
       "       ['defensive rebounds', 'rebounds'],\n",
       "       ['percentage of points from field goals', 'free throws made'],\n",
       "       ['percentage of points from field goals',\n",
       "        'percentage of points from free throws'],\n",
       "       ['free throws attempted', 'free throws made'],\n",
       "       ['free throws attempted', 'percentage of points from free throws'],\n",
       "       ['free throws made', 'percentage of points from free throws'],\n",
       "       ['game number', 'losses'],\n",
       "       ['game number', 'wins'],\n",
       "       ['lead changes', 'times tied'],\n",
       "       ['margin', 'margin after the third'],\n",
       "       ['margin', 'WL'],\n",
       "       ['three pointers attempted', 'three pointers made'],\n",
       "       ['three pointers made', 'three pointer percentage'],\n",
       "       ['three pointers made',\n",
       "        'percentage of points from three pointers'],\n",
       "       ['three pointer percentage',\n",
       "        'percentage of points from three pointers']], dtype='<U40')"
      ]
     },
     "execution_count": 20,
     "metadata": {},
     "output_type": "execute_result"
    }
   ],
   "source": [
    "highcorrelation(nbastats, .8)"
   ]
  },
  {
   "cell_type": "code",
   "execution_count": 21,
   "metadata": {},
   "outputs": [],
   "source": [
    "#drop highly correlated values and make a new df\n",
    "nbastats = nbastats.drop(['date', 'total points', 'dps', 'field goals made', 'dpa', \n",
    "                          'ats margin', 'margin', 'margin after the third', 'time zone__E', \n",
    "                          'rebounds', 'percentage of points from field goals', 'free throws attempted',\n",
    "                          'percentage of points from free throws','game number', 'times tied',\n",
    "                          'three pointers attempted', 'three pointer percentage',\n",
    "                          'percentage of points from three pointers'], axis=1, errors='ignore')"
   ]
  },
  {
   "cell_type": "code",
   "execution_count": 22,
   "metadata": {},
   "outputs": [
    {
     "data": {
      "text/plain": [
       "Index(['team', 'points', 'op team', 'op points', 'home away', 'season',\n",
       "       'vegas line', 'o/u margin', 'vegas line total', 'assists', 'ats streak',\n",
       "       'attendance', 'biggest lead', 'blocks', 'conference west/east',\n",
       "       'defensive rebounds', 'fast break points', 'field goals attempted',\n",
       "       'field goal percentage', 'fouls', 'free throws made',\n",
       "       'free throw percentage', 'lead changes', 'losses',\n",
       "       'margin after the first', 'margin at the half', 'matchup losses',\n",
       "       'matchup wins', 'offensive rebounds', 'officials', 'ou streak',\n",
       "       'overtime', 'points in the paint', 'rest', 'site streak', 'steals',\n",
       "       'streak', 'team rebounds', 'three pointers made', 'time of game',\n",
       "       'turnovers', 'wins', 'win percentage', 'matchup', 'o/u', 'WL',\n",
       "       'o/u margin class', 'time zone__C', 'time zone__M', 'time zone__P',\n",
       "       'division__Atlantic', 'division__Central', 'division__Northwest',\n",
       "       'division__Pacific', 'division__Southeast', 'division__Southwest',\n",
       "       'day__Friday', 'day__Monday', 'day__Saturday', 'day__Sunday',\n",
       "       'day__Thursday', 'day__Tuesday', 'day__Wednesday'],\n",
       "      dtype='object')"
      ]
     },
     "execution_count": 22,
     "metadata": {},
     "output_type": "execute_result"
    }
   ],
   "source": [
    "nbastats.columns"
   ]
  },
  {
   "cell_type": "code",
   "execution_count": 23,
   "metadata": {},
   "outputs": [],
   "source": [
    "#ingame/postgame stats excluding o/u stats\n",
    "in_game_mask = ['matchup', 'points', 'op points', 'assists', 'biggest lead', 'blocks', \n",
    "       'defensive rebounds', 'fast break points', 'field goals attempted',\n",
    "       'field goal percentage', 'fouls', 'free throws made',\n",
    "       'free throw percentage', 'lead changes', \n",
    "       'offensive rebounds', 'points in the paint', 'steals',\n",
    "       'team rebounds', 'three pointers made', 'time of game',\n",
    "       'turnovers', 'WL']\n",
    "\n",
    "#in_game_mask = ['matchup', 'points', 'op points', 'assists', 'biggest lead', 'blocks', \n",
    "#       'defensive rebounds', 'fast break points', 'field goals attempted',\n",
    "#       'field goal percentage', 'fouls', 'free throws made',\n",
    "#       'free throw percentage', 'lead changes','margin after the first', 'margin at the half', \n",
    "#       'offensive rebounds', 'overtime', 'points in the paint', 'steals',\n",
    "#       'team rebounds', 'three pointers made', 'time of game',\n",
    "#       'turnovers', 'WL']\n",
    "\n",
    "#pregame stats\n",
    "ext_game_mask = ['home away', 'season', \n",
    "       'vegas line', 'vegas line total', 'ats streak',\n",
    "       'attendance', 'conference west/east',\n",
    "       'losses', 'matchup losses', 'matchup wins', 'ou streak',\n",
    "       'rest', 'site streak', 'streak', 'wins', 'win percentage',\n",
    "       'time zone__C', 'time zone__M', 'time zone__P', 'division__Atlantic',\n",
    "       'division__Central', 'division__Northwest', 'division__Pacific',\n",
    "       'division__Southeast', 'division__Southwest', 'day__Friday',\n",
    "       'day__Monday', 'day__Saturday', 'day__Sunday', 'day__Thursday',\n",
    "       'day__Tuesday', 'day__Wednesday']\n",
    "\n",
    "#ext_game_mask = ['team', 'op team', 'home away', 'season',\n",
    "#       'vegas line', 'vegas line total', 'ats streak',\n",
    "#       'attendance', 'conference west/east',\n",
    "#       'losses', 'matchup losses', 'matchup wins', 'officials', 'ou streak',\n",
    "#       'rest', 'site streak', 'streak', 'wins', 'win percentage', 'matchup',\n",
    "#       'time zone__C', 'time zone__M', 'time zone__P', 'division__Atlantic',\n",
    "#       'division__Central', 'division__Northwest', 'division__Pacific',\n",
    "#       'division__Southeast', 'division__Southwest', 'day__Friday',\n",
    "#       'day__Monday', 'day__Saturday', 'day__Sunday', 'day__Thursday',\n",
    "#       'day__Tuesday', 'day__Wednesday']"
   ]
  },
  {
   "cell_type": "code",
   "execution_count": 24,
   "metadata": {},
   "outputs": [],
   "source": [
    "#build one data frame ordered by season 05, 06,..19 etc. but after each season add average of ingame/postgame stats\n",
    "#for cross validation with 05 as train and average of 05 ingame and 06 external stats as test, next 07 ingame as train and\n",
    "#average of 08 and 09 external for test, like 05<06>, 07<08>...16<17>. As the final untouched test set use 18,<19>. This is to\n",
    "#preserve the time order of the games\n",
    "#[05,06,07,08,09,...16]\n",
    "#[(<05>,06),(<07>,08),(<09>,10),...(<16>,17)]\n",
    "#concat,concat,concat...\n",
    "#05(<05>,06) 07(<07>,08) 09(<09>,10)...\n",
    "X_train = nbastats.copy()\n",
    "X_test = nbastats.copy()\n",
    "\n",
    "X_train_set = []\n",
    "for i in range(2005, 2020):\n",
    "    X_train_set.append(X_train[X_train['season'] == i])\n",
    "\n",
    "X_test_set = []\n",
    "for i in range(2005, 2020):\n",
    "    X_test_set.append(X_test[X_test['season'] == i])"
   ]
  },
  {
   "cell_type": "code",
   "execution_count": 25,
   "metadata": {},
   "outputs": [
    {
     "name": "stderr",
     "output_type": "stream",
     "text": [
      "C:\\Anaconda3\\lib\\site-packages\\ipykernel_launcher.py:18: SettingWithCopyWarning: \n",
      "A value is trying to be set on a copy of a slice from a DataFrame\n",
      "\n",
      "See the caveats in the documentation: http://pandas.pydata.org/pandas-docs/stable/user_guide/indexing.html#returning-a-view-versus-a-copy\n",
      "C:\\Anaconda3\\lib\\site-packages\\IPython\\core\\interactiveshell.py:3326: SettingWithCopyWarning: \n",
      "A value is trying to be set on a copy of a slice from a DataFrame\n",
      "\n",
      "See the caveats in the documentation: http://pandas.pydata.org/pandas-docs/stable/user_guide/indexing.html#returning-a-view-versus-a-copy\n",
      "  exec(code_obj, self.user_global_ns, self.user_ns)\n"
     ]
    }
   ],
   "source": [
    "#average up ingame/postgame stats by matchup in training set to apply to test set's matchups,\n",
    "#this way we are not using data in the test that would be unknown at the time of placing an\n",
    "#actual bet pregame\n",
    "for i in range(1, len(X_train_set)):\n",
    "    #get averages of previous season\n",
    "    ma = X_train_set[i-1][in_game_mask]\n",
    "    matchup_averages = ma.groupby(by='matchup', as_index=True).mean()\n",
    "    #matchup_averages.reset_index(drop=True, inplace=True)\n",
    "        \n",
    "    #impute averages of ingame stats from training set into ingame stat columns in test set\n",
    "    for j in in_game_mask:\n",
    "        if j == 'matchup':\n",
    "            continue    \n",
    "        for index, row in X_test_set[i].iterrows():\n",
    "            a = row['matchup']\n",
    "            if a not in matchup_averages.index:\n",
    "                continue\n",
    "            X_test_set[i][j][index] = matchup_averages[j][a]\n",
    "\n",
    "#in_game_mask.remove('matchup')\n",
    "\n",
    "#for i in in_game_mask:\n",
    "#    for index, row in X_test.iterrows():\n",
    "#        X_test[i][index] = matchup_averages[matchup_averages['matchup'] == row['matchup']][i]"
   ]
  },
  {
   "cell_type": "code",
   "execution_count": 26,
   "metadata": {},
   "outputs": [],
   "source": [
    "#make concatinated train,test and get indices for each train,test for CV, leave out 2018/2019 for final\n",
    "#test\n",
    "X_train = pd.concat(X_train_set, ignore_index=True)\n",
    "X_test = pd.concat(X_test_set, ignore_index=True)\n",
    "\n",
    "X_train_2017 = X_train[X_train['season']== 2017]\n",
    "X_test_2018 = X_test[X_test['season'] == 2018]\n",
    "\n",
    "y_train_2017 = X_train_2017['o/u']\n",
    "y_test_2018 = X_test_2018['o/u']\n",
    "y_train = X_train['o/u']\n",
    "y_test = X_test['o/u']\n",
    "\n",
    "y_train_cont_2017 = X_train_2017['o/u margin']\n",
    "y_test_cont_2018 = X_test_2018['o/u margin']\n",
    "y_train_cont = X_train['o/u margin']\n",
    "y_test_cont = X_test['o/u margin']\n",
    "\n",
    "X_train_final = X_train[X_train['season']== 2018]\n",
    "X_test_final = X_test[X_test['season'] == 2019]\n",
    "\n",
    "y_train_final = X_train_final['o/u']\n",
    "y_test_final = X_test_final['o/u']\n",
    "y_test_cont_final = X_test_final['o/u margin']\n",
    "    "
   ]
  },
  {
   "cell_type": "code",
   "execution_count": 27,
   "metadata": {},
   "outputs": [],
   "source": [
    "#X_train_2017.to_csv('NBA2017.csv', index=False)"
   ]
  },
  {
   "cell_type": "code",
   "execution_count": 28,
   "metadata": {},
   "outputs": [],
   "source": [
    "#2019 held out\n",
    "indices = list()\n",
    "for i in range(2015, 2018):\n",
    "    train = X_train.loc[X_train['season'] == i].index\n",
    "    test = X_test.loc[X_test['season'] == i+1].index\n",
    "    indices.append((train, test))"
   ]
  },
  {
   "cell_type": "code",
   "execution_count": null,
   "metadata": {},
   "outputs": [],
   "source": [
    "#fig, axes = plt.subplots(1,1, figsize=(10,10))\n",
    "#g = sns.PairGrid(X_train_2017.sample(1000), diag_sharey=False)\n",
    "#g.map_upper(sns.scatterplot, hue='o/u')\n",
    "#g.map_diag(sns.kdeplot, lw=2)"
   ]
  },
  {
   "cell_type": "code",
   "execution_count": null,
   "metadata": {},
   "outputs": [],
   "source": [
    "fig, axes = plt.subplots(1,1, figsize=(15,5))\n",
    "g = sns.scatterplot(x='matchup', y='o/u margin', data=X_train_2017.groupby('matchup', as_index=False).\n",
    "                    mean().sort_values('o/u margin', ascending=False))\n",
    "g = plt.xticks(rotation=45)"
   ]
  },
  {
   "cell_type": "code",
   "execution_count": 29,
   "metadata": {},
   "outputs": [
    {
     "data": {
      "text/plain": [
       "array([['o/u margin', 'o/u margin class']], dtype='<U22')"
      ]
     },
     "execution_count": 29,
     "metadata": {},
     "output_type": "execute_result"
    }
   ],
   "source": [
    "highcorrelation(X_train, .8)"
   ]
  },
  {
   "cell_type": "code",
   "execution_count": 30,
   "metadata": {},
   "outputs": [
    {
     "data": {
      "text/plain": [
       "array([['o/u margin', 'o/u margin class']], dtype='<U22')"
      ]
     },
     "execution_count": 30,
     "metadata": {},
     "output_type": "execute_result"
    }
   ],
   "source": [
    "highcorrelation(X_test, .8)"
   ]
  },
  {
   "cell_type": "code",
   "execution_count": 31,
   "metadata": {},
   "outputs": [
    {
     "data": {
      "text/plain": [
       "Index(['team', 'points', 'op team', 'op points', 'home away', 'season',\n",
       "       'vegas line', 'o/u margin', 'vegas line total', 'assists', 'ats streak',\n",
       "       'attendance', 'biggest lead', 'blocks', 'conference west/east',\n",
       "       'defensive rebounds', 'fast break points', 'field goals attempted',\n",
       "       'field goal percentage', 'fouls', 'free throws made',\n",
       "       'free throw percentage', 'lead changes', 'losses',\n",
       "       'margin after the first', 'margin at the half', 'matchup losses',\n",
       "       'matchup wins', 'offensive rebounds', 'officials', 'ou streak',\n",
       "       'overtime', 'points in the paint', 'rest', 'site streak', 'steals',\n",
       "       'streak', 'team rebounds', 'three pointers made', 'time of game',\n",
       "       'turnovers', 'wins', 'win percentage', 'matchup', 'o/u', 'WL',\n",
       "       'o/u margin class', 'time zone__C', 'time zone__M', 'time zone__P',\n",
       "       'division__Atlantic', 'division__Central', 'division__Northwest',\n",
       "       'division__Pacific', 'division__Southeast', 'division__Southwest',\n",
       "       'day__Friday', 'day__Monday', 'day__Saturday', 'day__Sunday',\n",
       "       'day__Thursday', 'day__Tuesday', 'day__Wednesday'],\n",
       "      dtype='object')"
      ]
     },
     "execution_count": 31,
     "metadata": {},
     "output_type": "execute_result"
    }
   ],
   "source": [
    "X_train.columns"
   ]
  },
  {
   "cell_type": "code",
   "execution_count": 32,
   "metadata": {},
   "outputs": [],
   "source": [
    "droplist = ['o/u margin', 'o/u margin class', 'o/u']\n",
    "X_train = X_train.drop(droplist, axis=1, errors='ignore')\n",
    "X_test = X_test.drop(droplist, axis=1, errors='ignore')\n",
    "\n",
    "X_train_2017 = X_train_2017.drop(droplist, axis=1, errors='ignore')\n",
    "X_test_2018 = X_test_2018.drop(droplist, axis=1, errors='ignore')\n",
    "\n",
    "X_train_final = X_train_final.drop(droplist, axis=1, errors='ignore')\n",
    "X_test_final = X_test_final.drop(droplist, axis=1, errors='ignore')"
   ]
  },
  {
   "cell_type": "code",
   "execution_count": 33,
   "metadata": {},
   "outputs": [],
   "source": [
    "X_train_num = X_train.select_dtypes('number')\n",
    "X_test_num = X_test.select_dtypes('number')\n",
    "\n",
    "X_train_2017_num = X_train_2017.select_dtypes('number')\n",
    "X_test_2018_num = X_test_2018.select_dtypes('number')\n",
    "\n",
    "X_train_final_num = X_train_final.select_dtypes('number')\n",
    "X_test_final_num = X_test_final.select_dtypes('number')"
   ]
  },
  {
   "cell_type": "code",
   "execution_count": 34,
   "metadata": {},
   "outputs": [],
   "source": [
    "scaler = StandardScaler()\n",
    "X_train_scaled = pd.DataFrame(scaler.fit_transform(X_train_num), columns = X_train_num.columns)\n",
    "X_train_2017_scaled = pd.DataFrame(scaler.fit_transform(X_train_2017_num), columns = X_train_2017_num.columns)\n",
    "X_train_final_scaled = pd.DataFrame(scaler.fit_transform(X_train_final_num), columns = \n",
    "                                    X_train_final_num.columns)\n",
    "\n",
    "X_test_scaled = pd.DataFrame(scaler.fit_transform(X_test_num), columns = X_test_num.columns)\n",
    "X_test_2018_scaled = pd.DataFrame(scaler.fit_transform(X_test_2018_num), columns = X_test_2018_num.columns)\n",
    "X_test_final_scaled = pd.DataFrame(scaler.fit_transform(X_test_final_num), \n",
    "                                   columns = X_test_final_num.columns)"
   ]
  },
  {
   "cell_type": "code",
   "execution_count": 35,
   "metadata": {},
   "outputs": [
    {
     "name": "stdout",
     "output_type": "stream",
     "text": [
      "Accuracy: 52.90%\n",
      "0.684355632420455\n",
      "0.6954706564470138\n"
     ]
    },
    {
     "name": "stderr",
     "output_type": "stream",
     "text": [
      "C:\\Anaconda3\\lib\\site-packages\\sklearn\\linear_model\\logistic.py:432: FutureWarning: Default solver will be changed to 'lbfgs' in 0.22. Specify a solver to silence this warning.\n",
      "  FutureWarning)\n"
     ]
    }
   ],
   "source": [
    "model = LogisticRegression(random_state = 42)\n",
    "model.fit(X_train_2017_scaled[ext_game_mask], y_train_2017)\n",
    "\n",
    "# make predictions for test data\n",
    "y_pred = model.predict(X_test_2018_scaled[ext_game_mask])\n",
    "predictions = [round(value) for value in y_pred]\n",
    "\n",
    "# evaluate prediction\n",
    "accuracy = accuracy_score(y_test_2018, predictions)\n",
    "print(\"Accuracy: %.2f%%\" % (accuracy * 100.0))\n",
    "\n",
    "probas_train = model.predict_proba(X_train_2017_scaled[ext_game_mask])\n",
    "log_loss_train = log_loss(y_train_2017, probas_train)\n",
    "print(log_loss_train)\n",
    "\n",
    "probas_test = model.predict_proba(X_test_2018_scaled[ext_game_mask])\n",
    "log_loss_test = log_loss(y_test_2018, probas_test)\n",
    "print(log_loss_test)"
   ]
  },
  {
   "cell_type": "code",
   "execution_count": 36,
   "metadata": {},
   "outputs": [
    {
     "name": "stdout",
     "output_type": "stream",
     "text": [
      "Accuracy: 52.29%\n"
     ]
    }
   ],
   "source": [
    "model = SVC(random_state = 912, kernel='linear')\n",
    "model.fit(X_train_2017_scaled[ext_game_mask], y_train_2017)\n",
    "\n",
    "# make predictions for test data\n",
    "y_pred = model.predict(X_test_2018_scaled[ext_game_mask])\n",
    "predictions = [round(value) for value in y_pred]\n",
    "\n",
    "# evaluate prediction\n",
    "accuracy = accuracy_score(y_test_2018, predictions)\n",
    "print(\"Accuracy: %.2f%%\" % (accuracy * 100.0))\n"
   ]
  },
  {
   "cell_type": "code",
   "execution_count": 37,
   "metadata": {},
   "outputs": [
    {
     "name": "stdout",
     "output_type": "stream",
     "text": [
      "[03:45:47] WARNING: C:\\Users\\Administrator\\workspace\\xgboost-win64_release_1.1.0\\src\\learner.cc:480: \n",
      "Parameters: { cosample_bytree } might not be used.\n",
      "\n",
      "  This may not be accurate due to some parameters are only used in language bindings but\n",
      "  passed down to XGBoost core.  Or some parameters are not used but slip through this\n",
      "  verification. Please open an issue if you find above cases.\n",
      "\n",
      "\n",
      "Accuracy: 53.91%\n"
     ]
    },
    {
     "data": {
      "image/png": "[encoded data removed]",
      "text/plain": [
       "<Figure size 360x360 with 1 Axes>"
      ]
     },
     "metadata": {
      "needs_background": "light"
     },
     "output_type": "display_data"
    },
    {
     "data": {
      "image/png": "[encoded data removed]",
      "text/plain": [
       "<Figure size 360x360 with 1 Axes>"
      ]
     },
     "metadata": {
      "needs_background": "light"
     },
     "output_type": "display_data"
    },
    {
     "data": {
      "image/png": "[encoded data removed]",
      "text/plain": [
       "<Figure size 360x720 with 1 Axes>"
      ]
     },
     "metadata": {
      "needs_background": "light"
     },
     "output_type": "display_data"
    }
   ],
   "source": [
    "model = xgb.XGBClassifier(seed=968, eta=.05, n_estimators=500, min_child_weight=1, \n",
    "                          max_depth=3, subsample=1, cosample_bytree=1, reg_lambda=50, \n",
    "                          reg_alpha=15)\n",
    "evals_result ={}\n",
    "eval_s = [(X_train_2017_num[ext_game_mask], y_train_2017),(X_test_2018_num[ext_game_mask], y_test_2018)]\n",
    "model.fit(X_train_2017_num[ext_game_mask], y_train_2017, eval_metric=[\"error\", \"logloss\"],\n",
    "          early_stopping_rounds=100, eval_set=eval_s, verbose=False)\n",
    "\n",
    "# make predictions for test data\n",
    "y_pred = model.predict(X_test_final_num[ext_game_mask])\n",
    "predictions = [round(value) for value in y_pred]\n",
    "\n",
    "# evaluate prediction\n",
    "accuracy = accuracy_score(y_test_final, predictions)\n",
    "print(\"Accuracy: %.2f%%\" % (accuracy * 100.0))\n",
    "\n",
    "# retrieve performance metrics\n",
    "results = model.evals_result()\n",
    "epochs = len(results['validation_0']['error'])\n",
    "x_axis = range(0, epochs)\n",
    "\n",
    "# plot log loss\n",
    "fig, ax = plt.subplots(figsize=(5,5))\n",
    "ax.plot(x_axis, results['validation_0']['logloss'], label='Train')\n",
    "ax.plot(x_axis, results['validation_1']['logloss'], label='Test')\n",
    "ax.legend()\n",
    "plt.ylabel('Log Loss')\n",
    "plt.title('XGBoost Log Loss')\n",
    "plt.show()\n",
    "\n",
    "# plot classification error\n",
    "fig, ax = plt.subplots(figsize=(5,5))\n",
    "ax.plot(x_axis, results['validation_0']['error'], label='Train')\n",
    "ax.plot(x_axis, results['validation_1']['error'], label='Test')\n",
    "ax.legend()\n",
    "plt.ylabel('Classification Error')\n",
    "plt.title('XGBoost Classification Error')\n",
    "plt.show()\n",
    "\n",
    "#plot importance\n",
    "fig, ax = plt.subplots(figsize = (5,10))\n",
    "plot_importance(model, ax=ax)\n",
    "plt.show()\n"
   ]
  },
  {
   "cell_type": "code",
   "execution_count": 38,
   "metadata": {},
   "outputs": [],
   "source": [
    "def algorithm_pipeline(X_train_data, X_test_data, y_train_data, y_test_data, \n",
    "                       model, param_grid, cv, scoring_fit,\n",
    "                       probabilities):\n",
    "    gs = GridSearchCV(\n",
    "        estimator=model,\n",
    "        param_grid=param_grid, \n",
    "        cv=cv, \n",
    "        n_jobs=-1, \n",
    "        scoring=scoring_fit,\n",
    "        verbose=2,\n",
    "    )\n",
    "    fitted_model = gs.fit(X_train_data, y_train_data)\n",
    "    \n",
    "    if probabilities:\n",
    "      pred = fitted_model.predict_proba(X_test_data)\n",
    "    else:\n",
    "      pred = fitted_model.predict(X_test_data)\n",
    "    \n",
    "    return fitted_model, pred"
   ]
  },
  {
   "cell_type": "code",
   "execution_count": 39,
   "metadata": {},
   "outputs": [
    {
     "name": "stdout",
     "output_type": "stream",
     "text": [
      "Fitting 3 folds for each of 1 candidates, totalling 3 fits\n"
     ]
    },
    {
     "name": "stderr",
     "output_type": "stream",
     "text": [
      "[Parallel(n_jobs=-1)]: Using backend LokyBackend with 4 concurrent workers.\n",
      "[Parallel(n_jobs=-1)]: Done   3 out of   3 | elapsed:   21.9s finished\n"
     ]
    },
    {
     "name": "stdout",
     "output_type": "stream",
     "text": [
      "0.518\n",
      "{'colsample_bytree': 1, 'eta': 0.05, 'max_depth': 3, 'min_child_weight': 1, 'n_estimators': 500, 'reg_alpha': 15, 'reg_lambda': 50, 'subsample': 1}\n"
     ]
    }
   ],
   "source": [
    "#using Kaggle's Xeon cpus..\n",
    "#%%time\n",
    "model = xgb.XGBClassifier(seed=83)\n",
    "#param_grid = {\n",
    "#    'eta': [.1],\n",
    "#    'n_estimators': [100],\n",
    "#}\n",
    "param_grid = {\n",
    "    'eta': [.05],\n",
    "    'n_estimators': [500],\n",
    "    'min_child_weight': [1],\n",
    "    'colsample_bytree': [1],\n",
    "    'max_depth': [3],\n",
    "    'reg_alpha': [15],\n",
    "    'reg_lambda': [50],\n",
    "    'subsample': [1]\n",
    "    }\n",
    "\n",
    "fitted_model, pred = algorithm_pipeline(X_train_num[ext_game_mask], X_test_num[ext_game_mask], y_train, \n",
    "                                        y_test, model, \n",
    "                                 param_grid, cv=indices, scoring_fit = 'accuracy', \n",
    "                                 probabilities = False)\n",
    "\n",
    "#Scores and parameters\n",
    "print(round(fitted_model.best_score_, 3))\n",
    "print(fitted_model.best_params_)\n",
    "fits = pd.DataFrame(fitted_model.cv_results_)"
   ]
  },
  {
   "cell_type": "code",
   "execution_count": 40,
   "metadata": {},
   "outputs": [
    {
     "data": {
      "image/png": "[encoded data removed]",
      "text/plain": [
       "<Figure size 360x720 with 1 Axes>"
      ]
     },
     "metadata": {
      "needs_background": "light"
     },
     "output_type": "display_data"
    }
   ],
   "source": [
    "#plot importance\n",
    "fig, ax = plt.subplots(figsize = (5,10))\n",
    "plot_importance(fitted_model.best_estimator_, ax=ax)\n",
    "plt.show()"
   ]
  },
  {
   "cell_type": "code",
   "execution_count": 41,
   "metadata": {},
   "outputs": [],
   "source": [
    "pred_final = fitted_model.predict(X_test_final_num[ext_game_mask])\n",
    "prob_final = fitted_model.predict_proba(X_test_final_num[ext_game_mask])"
   ]
  },
  {
   "cell_type": "code",
   "execution_count": 42,
   "metadata": {},
   "outputs": [
    {
     "name": "stdout",
     "output_type": "stream",
     "text": [
      "Accuracy: 58.86%\n"
     ]
    }
   ],
   "source": [
    "predictions = [round(value) for value in pred_final]\n",
    "\n",
    "# evaluate prediction\n",
    "accuracy = accuracy_score(y_test_final, predictions)\n",
    "print(\"Accuracy: %.2f%%\" % (accuracy * 100.0))"
   ]
  },
  {
   "cell_type": "code",
   "execution_count": 43,
   "metadata": {},
   "outputs": [
    {
     "data": {
      "text/html": [
       "<div>\n",
       "<style scoped>\n",
       "    .dataframe tbody tr th:only-of-type {\n",
       "        vertical-align: middle;\n",
       "    }\n",
       "\n",
       "    .dataframe tbody tr th {\n",
       "        vertical-align: top;\n",
       "    }\n",
       "\n",
       "    .dataframe thead th {\n",
       "        text-align: right;\n",
       "    }\n",
       "</style>\n",
       "<table border=\"1\" class=\"dataframe\">\n",
       "  <thead>\n",
       "    <tr style=\"text-align: right;\">\n",
       "      <th></th>\n",
       "      <th>prediction</th>\n",
       "      <th>actual</th>\n",
       "      <th>wallet</th>\n",
       "    </tr>\n",
       "  </thead>\n",
       "  <tbody>\n",
       "    <tr>\n",
       "      <td>0</td>\n",
       "      <td>0</td>\n",
       "      <td>0</td>\n",
       "      <td>0</td>\n",
       "    </tr>\n",
       "    <tr>\n",
       "      <td>1</td>\n",
       "      <td>1</td>\n",
       "      <td>1</td>\n",
       "      <td>0</td>\n",
       "    </tr>\n",
       "    <tr>\n",
       "      <td>2</td>\n",
       "      <td>1</td>\n",
       "      <td>1</td>\n",
       "      <td>0</td>\n",
       "    </tr>\n",
       "    <tr>\n",
       "      <td>3</td>\n",
       "      <td>1</td>\n",
       "      <td>1</td>\n",
       "      <td>0</td>\n",
       "    </tr>\n",
       "    <tr>\n",
       "      <td>4</td>\n",
       "      <td>1</td>\n",
       "      <td>0</td>\n",
       "      <td>0</td>\n",
       "    </tr>\n",
       "  </tbody>\n",
       "</table>\n",
       "</div>"
      ],
      "text/plain": [
       "   prediction  actual  wallet\n",
       "0           0       0       0\n",
       "1           1       1       0\n",
       "2           1       1       0\n",
       "3           1       1       0\n",
       "4           1       0       0"
      ]
     },
     "execution_count": 43,
     "metadata": {},
     "output_type": "execute_result"
    }
   ],
   "source": [
    "#PROFIT based on binary choice-Start with $1000, juice is 10%, $100 min\n",
    "pred_df = pd.DataFrame(predictions, columns=['prediction'])\n",
    "pred_df['actual'] = y_test_final.reset_index(drop=True)\n",
    "pred_df['wallet'] = 0\n",
    "pred_df = pred_df[::2].reset_index(drop=True)\n",
    "pred_df.head()"
   ]
  },
  {
   "cell_type": "code",
   "execution_count": 44,
   "metadata": {},
   "outputs": [
    {
     "data": {
      "text/html": [
       "<div>\n",
       "<style scoped>\n",
       "    .dataframe tbody tr th:only-of-type {\n",
       "        vertical-align: middle;\n",
       "    }\n",
       "\n",
       "    .dataframe tbody tr th {\n",
       "        vertical-align: top;\n",
       "    }\n",
       "\n",
       "    .dataframe thead th {\n",
       "        text-align: right;\n",
       "    }\n",
       "</style>\n",
       "<table border=\"1\" class=\"dataframe\">\n",
       "  <thead>\n",
       "    <tr style=\"text-align: right;\">\n",
       "      <th></th>\n",
       "      <th>prediction</th>\n",
       "      <th>actual</th>\n",
       "      <th>wallet</th>\n",
       "    </tr>\n",
       "  </thead>\n",
       "  <tbody>\n",
       "    <tr>\n",
       "      <td>0</td>\n",
       "      <td>0</td>\n",
       "      <td>0</td>\n",
       "      <td>1090</td>\n",
       "    </tr>\n",
       "    <tr>\n",
       "      <td>1</td>\n",
       "      <td>1</td>\n",
       "      <td>1</td>\n",
       "      <td>1180</td>\n",
       "    </tr>\n",
       "    <tr>\n",
       "      <td>2</td>\n",
       "      <td>1</td>\n",
       "      <td>1</td>\n",
       "      <td>1270</td>\n",
       "    </tr>\n",
       "    <tr>\n",
       "      <td>3</td>\n",
       "      <td>1</td>\n",
       "      <td>1</td>\n",
       "      <td>1360</td>\n",
       "    </tr>\n",
       "    <tr>\n",
       "      <td>4</td>\n",
       "      <td>1</td>\n",
       "      <td>0</td>\n",
       "      <td>1250</td>\n",
       "    </tr>\n",
       "  </tbody>\n",
       "</table>\n",
       "</div>"
      ],
      "text/plain": [
       "   prediction  actual  wallet\n",
       "0           0       0    1090\n",
       "1           1       1    1180\n",
       "2           1       1    1270\n",
       "3           1       1    1360\n",
       "4           1       0    1250"
      ]
     },
     "execution_count": 44,
     "metadata": {},
     "output_type": "execute_result"
    }
   ],
   "source": [
    "wallet = 1000\n",
    "for i in range(0, pred_df.shape[0]):\n",
    "    if i == 0:\n",
    "        if pred_df.iloc[0, pred_df.columns.get_loc('prediction')] == pred_df.iloc[0, \n",
    "            pred_df.columns.get_loc('actual')]:\n",
    "            pred_df.iloc[0, pred_df.columns.get_loc('wallet')] = wallet + 90\n",
    "        else:\n",
    "            pred_df.iloc[0, pred_df.columns.get_loc('wallet')] = wallet - 110\n",
    "    if i > 0:\n",
    "        if pred_df.iloc[i, pred_df.columns.get_loc('prediction')] == pred_df.iloc[i, \n",
    "            pred_df.columns.get_loc('actual')]:\n",
    "            pred_df.iloc[i, pred_df.columns.get_loc('wallet')] = pred_df.iloc[i-1, \n",
    "                pred_df.columns.get_loc('wallet')] + 90\n",
    "        else:\n",
    "            pred_df.iloc[i, pred_df.columns.get_loc('wallet')] = pred_df.iloc[i-1, \n",
    "                pred_df.columns.get_loc('wallet')] - 110\n",
    "pred_df.head()"
   ]
  },
  {
   "cell_type": "code",
   "execution_count": 45,
   "metadata": {},
   "outputs": [
    {
     "data": {
      "image/png": "[encoded data removed]",
      "text/plain": [
       "<Figure size 360x360 with 1 Axes>"
      ]
     },
     "metadata": {
      "needs_background": "light"
     },
     "output_type": "display_data"
    }
   ],
   "source": [
    "fig, ax = plt.subplots(figsize=(5,5))\n",
    "ax.plot(pred_df.index, pred_df['wallet'])\n",
    "plt.xlabel('Game #')\n",
    "plt.ylabel('Wallet')\n",
    "plt.title('Profit Starting with $1000')\n",
    "plt.show()"
   ]
  },
  {
   "cell_type": "code",
   "execution_count": 46,
   "metadata": {},
   "outputs": [
    {
     "data": {
      "text/html": [
       "<div>\n",
       "<style scoped>\n",
       "    .dataframe tbody tr th:only-of-type {\n",
       "        vertical-align: middle;\n",
       "    }\n",
       "\n",
       "    .dataframe tbody tr th {\n",
       "        vertical-align: top;\n",
       "    }\n",
       "\n",
       "    .dataframe thead th {\n",
       "        text-align: right;\n",
       "    }\n",
       "</style>\n",
       "<table border=\"1\" class=\"dataframe\">\n",
       "  <thead>\n",
       "    <tr style=\"text-align: right;\">\n",
       "      <th></th>\n",
       "      <th>0</th>\n",
       "      <th>1</th>\n",
       "      <th>actual</th>\n",
       "      <th>wallet</th>\n",
       "    </tr>\n",
       "  </thead>\n",
       "  <tbody>\n",
       "    <tr>\n",
       "      <td>0</td>\n",
       "      <td>0.572189</td>\n",
       "      <td>0.427811</td>\n",
       "      <td>0</td>\n",
       "      <td>0</td>\n",
       "    </tr>\n",
       "    <tr>\n",
       "      <td>1</td>\n",
       "      <td>0.452109</td>\n",
       "      <td>0.547891</td>\n",
       "      <td>1</td>\n",
       "      <td>0</td>\n",
       "    </tr>\n",
       "    <tr>\n",
       "      <td>2</td>\n",
       "      <td>0.491600</td>\n",
       "      <td>0.508400</td>\n",
       "      <td>1</td>\n",
       "      <td>0</td>\n",
       "    </tr>\n",
       "    <tr>\n",
       "      <td>3</td>\n",
       "      <td>0.411782</td>\n",
       "      <td>0.588218</td>\n",
       "      <td>1</td>\n",
       "      <td>0</td>\n",
       "    </tr>\n",
       "    <tr>\n",
       "      <td>4</td>\n",
       "      <td>0.438324</td>\n",
       "      <td>0.561676</td>\n",
       "      <td>0</td>\n",
       "      <td>0</td>\n",
       "    </tr>\n",
       "  </tbody>\n",
       "</table>\n",
       "</div>"
      ],
      "text/plain": [
       "          0         1  actual  wallet\n",
       "0  0.572189  0.427811       0       0\n",
       "1  0.452109  0.547891       1       0\n",
       "2  0.491600  0.508400       1       0\n",
       "3  0.411782  0.588218       1       0\n",
       "4  0.438324  0.561676       0       0"
      ]
     },
     "execution_count": 46,
     "metadata": {},
     "output_type": "execute_result"
    }
   ],
   "source": [
    "#PROFIT based on probabilities- Start with $1000, juice is 10%, $100 min\n",
    "prob_df = pd.DataFrame(prob_final, columns=['0', '1'])\n",
    "prob_df['actual'] = y_test_final.reset_index(drop=True)\n",
    "prob_df['wallet'] = 0\n",
    "prob_df = prob_df[::2].reset_index(drop=True)\n",
    "prob_df.head()"
   ]
  },
  {
   "cell_type": "code",
   "execution_count": 47,
   "metadata": {},
   "outputs": [
    {
     "data": {
      "text/html": [
       "<div>\n",
       "<style scoped>\n",
       "    .dataframe tbody tr th:only-of-type {\n",
       "        vertical-align: middle;\n",
       "    }\n",
       "\n",
       "    .dataframe tbody tr th {\n",
       "        vertical-align: top;\n",
       "    }\n",
       "\n",
       "    .dataframe thead th {\n",
       "        text-align: right;\n",
       "    }\n",
       "</style>\n",
       "<table border=\"1\" class=\"dataframe\">\n",
       "  <thead>\n",
       "    <tr style=\"text-align: right;\">\n",
       "      <th></th>\n",
       "      <th>0</th>\n",
       "      <th>1</th>\n",
       "      <th>actual</th>\n",
       "      <th>wallet</th>\n",
       "      <th>prediction</th>\n",
       "    </tr>\n",
       "  </thead>\n",
       "  <tbody>\n",
       "    <tr>\n",
       "      <td>0</td>\n",
       "      <td>0.572189</td>\n",
       "      <td>0.427811</td>\n",
       "      <td>0</td>\n",
       "      <td>0</td>\n",
       "      <td>0</td>\n",
       "    </tr>\n",
       "    <tr>\n",
       "      <td>1</td>\n",
       "      <td>0.452109</td>\n",
       "      <td>0.547891</td>\n",
       "      <td>1</td>\n",
       "      <td>0</td>\n",
       "      <td>1</td>\n",
       "    </tr>\n",
       "    <tr>\n",
       "      <td>2</td>\n",
       "      <td>0.491600</td>\n",
       "      <td>0.508400</td>\n",
       "      <td>1</td>\n",
       "      <td>0</td>\n",
       "      <td>-1</td>\n",
       "    </tr>\n",
       "    <tr>\n",
       "      <td>3</td>\n",
       "      <td>0.411782</td>\n",
       "      <td>0.588218</td>\n",
       "      <td>1</td>\n",
       "      <td>0</td>\n",
       "      <td>1</td>\n",
       "    </tr>\n",
       "    <tr>\n",
       "      <td>4</td>\n",
       "      <td>0.438324</td>\n",
       "      <td>0.561676</td>\n",
       "      <td>0</td>\n",
       "      <td>0</td>\n",
       "      <td>1</td>\n",
       "    </tr>\n",
       "    <tr>\n",
       "      <td>5</td>\n",
       "      <td>0.515272</td>\n",
       "      <td>0.484728</td>\n",
       "      <td>0</td>\n",
       "      <td>0</td>\n",
       "      <td>-1</td>\n",
       "    </tr>\n",
       "    <tr>\n",
       "      <td>6</td>\n",
       "      <td>0.459915</td>\n",
       "      <td>0.540085</td>\n",
       "      <td>0</td>\n",
       "      <td>0</td>\n",
       "      <td>1</td>\n",
       "    </tr>\n",
       "    <tr>\n",
       "      <td>7</td>\n",
       "      <td>0.380471</td>\n",
       "      <td>0.619529</td>\n",
       "      <td>1</td>\n",
       "      <td>0</td>\n",
       "      <td>1</td>\n",
       "    </tr>\n",
       "    <tr>\n",
       "      <td>8</td>\n",
       "      <td>0.471539</td>\n",
       "      <td>0.528461</td>\n",
       "      <td>1</td>\n",
       "      <td>0</td>\n",
       "      <td>-1</td>\n",
       "    </tr>\n",
       "    <tr>\n",
       "      <td>9</td>\n",
       "      <td>0.533054</td>\n",
       "      <td>0.466946</td>\n",
       "      <td>0</td>\n",
       "      <td>0</td>\n",
       "      <td>0</td>\n",
       "    </tr>\n",
       "    <tr>\n",
       "      <td>10</td>\n",
       "      <td>0.478940</td>\n",
       "      <td>0.521060</td>\n",
       "      <td>1</td>\n",
       "      <td>0</td>\n",
       "      <td>-1</td>\n",
       "    </tr>\n",
       "    <tr>\n",
       "      <td>11</td>\n",
       "      <td>0.420475</td>\n",
       "      <td>0.579525</td>\n",
       "      <td>0</td>\n",
       "      <td>0</td>\n",
       "      <td>1</td>\n",
       "    </tr>\n",
       "    <tr>\n",
       "      <td>12</td>\n",
       "      <td>0.488864</td>\n",
       "      <td>0.511136</td>\n",
       "      <td>0</td>\n",
       "      <td>0</td>\n",
       "      <td>-1</td>\n",
       "    </tr>\n",
       "    <tr>\n",
       "      <td>13</td>\n",
       "      <td>0.525674</td>\n",
       "      <td>0.474326</td>\n",
       "      <td>0</td>\n",
       "      <td>0</td>\n",
       "      <td>-1</td>\n",
       "    </tr>\n",
       "    <tr>\n",
       "      <td>14</td>\n",
       "      <td>0.450689</td>\n",
       "      <td>0.549311</td>\n",
       "      <td>0</td>\n",
       "      <td>0</td>\n",
       "      <td>1</td>\n",
       "    </tr>\n",
       "    <tr>\n",
       "      <td>15</td>\n",
       "      <td>0.453667</td>\n",
       "      <td>0.546333</td>\n",
       "      <td>1</td>\n",
       "      <td>0</td>\n",
       "      <td>1</td>\n",
       "    </tr>\n",
       "    <tr>\n",
       "      <td>16</td>\n",
       "      <td>0.485065</td>\n",
       "      <td>0.514935</td>\n",
       "      <td>1</td>\n",
       "      <td>0</td>\n",
       "      <td>-1</td>\n",
       "    </tr>\n",
       "    <tr>\n",
       "      <td>17</td>\n",
       "      <td>0.499374</td>\n",
       "      <td>0.500626</td>\n",
       "      <td>0</td>\n",
       "      <td>0</td>\n",
       "      <td>-1</td>\n",
       "    </tr>\n",
       "    <tr>\n",
       "      <td>18</td>\n",
       "      <td>0.524492</td>\n",
       "      <td>0.475508</td>\n",
       "      <td>0</td>\n",
       "      <td>0</td>\n",
       "      <td>-1</td>\n",
       "    </tr>\n",
       "    <tr>\n",
       "      <td>19</td>\n",
       "      <td>0.424890</td>\n",
       "      <td>0.575110</td>\n",
       "      <td>1</td>\n",
       "      <td>0</td>\n",
       "      <td>1</td>\n",
       "    </tr>\n",
       "  </tbody>\n",
       "</table>\n",
       "</div>"
      ],
      "text/plain": [
       "           0         1  actual  wallet  prediction\n",
       "0   0.572189  0.427811       0       0           0\n",
       "1   0.452109  0.547891       1       0           1\n",
       "2   0.491600  0.508400       1       0          -1\n",
       "3   0.411782  0.588218       1       0           1\n",
       "4   0.438324  0.561676       0       0           1\n",
       "5   0.515272  0.484728       0       0          -1\n",
       "6   0.459915  0.540085       0       0           1\n",
       "7   0.380471  0.619529       1       0           1\n",
       "8   0.471539  0.528461       1       0          -1\n",
       "9   0.533054  0.466946       0       0           0\n",
       "10  0.478940  0.521060       1       0          -1\n",
       "11  0.420475  0.579525       0       0           1\n",
       "12  0.488864  0.511136       0       0          -1\n",
       "13  0.525674  0.474326       0       0          -1\n",
       "14  0.450689  0.549311       0       0           1\n",
       "15  0.453667  0.546333       1       0           1\n",
       "16  0.485065  0.514935       1       0          -1\n",
       "17  0.499374  0.500626       0       0          -1\n",
       "18  0.524492  0.475508       0       0          -1\n",
       "19  0.424890  0.575110       1       0           1"
      ]
     },
     "execution_count": 47,
     "metadata": {},
     "output_type": "execute_result"
    }
   ],
   "source": [
    "prob_thresh = .532\n",
    "prob_df['prediction'] = -1\n",
    "for i in range(0, prob_df.shape[0]):\n",
    "    if prob_df.iloc[i, prob_df.columns.get_loc('0')] > prob_thresh:\n",
    "        prob_df.iloc[i, prob_df.columns.get_loc('prediction')] = 0\n",
    "    if prob_df.iloc[i, prob_df.columns.get_loc('1')] > prob_thresh:\n",
    "        prob_df.iloc[i, prob_df.columns.get_loc('prediction')] = 1\n",
    "        \n",
    "prob_df.head(20)"
   ]
  },
  {
   "cell_type": "code",
   "execution_count": 48,
   "metadata": {},
   "outputs": [
    {
     "data": {
      "image/png": "[encoded data removed]",
      "text/plain": [
       "<Figure size 1080x360 with 1 Axes>"
      ]
     },
     "metadata": {
      "needs_background": "light"
     },
     "output_type": "display_data"
    },
    {
     "name": "stdout",
     "output_type": "stream",
     "text": [
      "0.473941600071003\n",
      "0.5320856870341787\n"
     ]
    }
   ],
   "source": [
    "from scipy.interpolate import UnivariateSpline\n",
    "# 300 represents number of points to make between T.min and T.max\n",
    "xnew = np.linspace(prob_df.index.min(), prob_df.index.max(), prob_df.shape[0])  \n",
    "spl0 = UnivariateSpline(prob_df.index, prob_df['0'])\n",
    "spl1 = UnivariateSpline(prob_df.index, prob_df['1'])\n",
    "spl0.set_smoothing_factor(2)\n",
    "spl1.set_smoothing_factor(2)\n",
    "\n",
    "\n",
    "fig, ax = plt.subplots(figsize=(15,5))\n",
    "#ax.plot(prob_df.index, prob_df['0'])\n",
    "ax.plot(prob_df.index, spl1(xnew), label = 'Over')\n",
    "ax.plot(prob_df.index, spl0(xnew), label= 'Under')\n",
    "#ax.plot(prob_df.index, prob_df['1'])\n",
    "plt.xlabel('Game #')\n",
    "plt.ylabel('Probability')\n",
    "plt.legend()\n",
    "plt.title('Probability of O/U')\n",
    "plt.show()\n",
    "\n",
    "#RMS\n",
    "print(np.sqrt(np.mean(prob_df['0']**2)))\n",
    "print(np.sqrt(np.mean(prob_df['1']**2)))"
   ]
  },
  {
   "cell_type": "code",
   "execution_count": 49,
   "metadata": {},
   "outputs": [
    {
     "data": {
      "text/html": [
       "<div>\n",
       "<style scoped>\n",
       "    .dataframe tbody tr th:only-of-type {\n",
       "        vertical-align: middle;\n",
       "    }\n",
       "\n",
       "    .dataframe tbody tr th {\n",
       "        vertical-align: top;\n",
       "    }\n",
       "\n",
       "    .dataframe thead th {\n",
       "        text-align: right;\n",
       "    }\n",
       "</style>\n",
       "<table border=\"1\" class=\"dataframe\">\n",
       "  <thead>\n",
       "    <tr style=\"text-align: right;\">\n",
       "      <th></th>\n",
       "      <th>0</th>\n",
       "      <th>1</th>\n",
       "      <th>actual</th>\n",
       "      <th>wallet</th>\n",
       "      <th>prediction</th>\n",
       "    </tr>\n",
       "  </thead>\n",
       "  <tbody>\n",
       "    <tr>\n",
       "      <td>0</td>\n",
       "      <td>0.572189</td>\n",
       "      <td>0.427811</td>\n",
       "      <td>0</td>\n",
       "      <td>1090</td>\n",
       "      <td>0</td>\n",
       "    </tr>\n",
       "    <tr>\n",
       "      <td>1</td>\n",
       "      <td>0.452109</td>\n",
       "      <td>0.547891</td>\n",
       "      <td>1</td>\n",
       "      <td>1180</td>\n",
       "      <td>1</td>\n",
       "    </tr>\n",
       "    <tr>\n",
       "      <td>2</td>\n",
       "      <td>0.491600</td>\n",
       "      <td>0.508400</td>\n",
       "      <td>1</td>\n",
       "      <td>1180</td>\n",
       "      <td>-1</td>\n",
       "    </tr>\n",
       "    <tr>\n",
       "      <td>3</td>\n",
       "      <td>0.411782</td>\n",
       "      <td>0.588218</td>\n",
       "      <td>1</td>\n",
       "      <td>1270</td>\n",
       "      <td>1</td>\n",
       "    </tr>\n",
       "    <tr>\n",
       "      <td>4</td>\n",
       "      <td>0.438324</td>\n",
       "      <td>0.561676</td>\n",
       "      <td>0</td>\n",
       "      <td>1160</td>\n",
       "      <td>1</td>\n",
       "    </tr>\n",
       "  </tbody>\n",
       "</table>\n",
       "</div>"
      ],
      "text/plain": [
       "          0         1  actual  wallet  prediction\n",
       "0  0.572189  0.427811       0    1090           0\n",
       "1  0.452109  0.547891       1    1180           1\n",
       "2  0.491600  0.508400       1    1180          -1\n",
       "3  0.411782  0.588218       1    1270           1\n",
       "4  0.438324  0.561676       0    1160           1"
      ]
     },
     "execution_count": 49,
     "metadata": {},
     "output_type": "execute_result"
    }
   ],
   "source": [
    "wallet = 1000\n",
    "for i in range(0, prob_df.shape[0]):\n",
    "    if i == 0:\n",
    "        if prob_df.iloc[0, prob_df.columns.get_loc('prediction')] == -1:\n",
    "            prob_df.iloc[0, prob_df.columns.get_loc('wallet')] = wallet\n",
    "            continue\n",
    "        if prob_df.iloc[0, prob_df.columns.get_loc('prediction')] == prob_df.iloc[0, \n",
    "            prob_df.columns.get_loc('actual')]:\n",
    "            prob_df.iloc[0, prob_df.columns.get_loc('wallet')] = wallet + 90\n",
    "        else:\n",
    "            prob_df.iloc[0, prob_df.columns.get_loc('wallet')] = wallet - 110\n",
    "    if i > 0:\n",
    "        if prob_df.iloc[i, prob_df.columns.get_loc('prediction')] == -1:\n",
    "            prob_df.iloc[i, prob_df.columns.get_loc('wallet')] = prob_df.iloc[i-1, prob_df.columns.get_loc('wallet')]\n",
    "            continue\n",
    "        if prob_df.iloc[i, prob_df.columns.get_loc('prediction')] == prob_df.iloc[i, \n",
    "            prob_df.columns.get_loc('actual')]:\n",
    "            prob_df.iloc[i, prob_df.columns.get_loc('wallet')] = prob_df.iloc[i-1, \n",
    "                prob_df.columns.get_loc('wallet')] + 90\n",
    "        else:\n",
    "            prob_df.iloc[i, prob_df.columns.get_loc('wallet')] = prob_df.iloc[i-1, \n",
    "                prob_df.columns.get_loc('wallet')] - 110\n",
    "prob_df.head()"
   ]
  },
  {
   "cell_type": "code",
   "execution_count": 50,
   "metadata": {},
   "outputs": [
    {
     "data": {
      "image/png": "[encoded data removed]",
      "text/plain": [
       "<Figure size 360x360 with 1 Axes>"
      ]
     },
     "metadata": {
      "needs_background": "light"
     },
     "output_type": "display_data"
    }
   ],
   "source": [
    "fig, ax = plt.subplots(figsize=(5,5))\n",
    "ax.plot(prob_df.index, prob_df['wallet'])\n",
    "plt.xlabel('Game #')\n",
    "plt.ylabel('Wallet')\n",
    "plt.title('Profit Starting with $1000')\n",
    "plt.show()"
   ]
  },
  {
   "cell_type": "code",
   "execution_count": 51,
   "metadata": {},
   "outputs": [
    {
     "name": "stdout",
     "output_type": "stream",
     "text": [
      "Fitting 3 folds for each of 1 candidates, totalling 3 fits\n"
     ]
    },
    {
     "name": "stderr",
     "output_type": "stream",
     "text": [
      "[Parallel(n_jobs=-1)]: Using backend LokyBackend with 4 concurrent workers.\n",
      "[Parallel(n_jobs=-1)]: Done   3 out of   3 | elapsed:   26.7s finished\n"
     ]
    },
    {
     "name": "stdout",
     "output_type": "stream",
     "text": [
      "19.24\n",
      "{'eta': 0.05, 'n_estimators': 800}\n"
     ]
    }
   ],
   "source": [
    "model = xgb.XGBRegressor(seed=294)\n",
    "param_grid = {\n",
    "    'eta': [.05],\n",
    "    'n_estimators': [800],\n",
    "}\n",
    "#param_grid = {\n",
    "#    'eta': [.005, .01, .05, .1],\n",
    "#    'n_estimators': [100, 200, 400, 800, 1600],\n",
    "#    'min_child_weight': [.8, 1, 1.2],\n",
    "#    'colsample_bytree': [.8, 1, 1.2],\n",
    "#    'max_depth': [3,4,5, 6, 7, 8, 9, 10, 15],\n",
    "#    'reg_alpha': [.6, .8, .9, 1, 1.1],\n",
    "#    'reg_lambda': [.6, .8, .9, 1, 1.1],\n",
    "#    'subsample': [.6, 0.8, 1]\n",
    "#}\n",
    "\n",
    "fitted_model, pred = algorithm_pipeline(X_train_scaled[ext_game_mask], \n",
    "                                        X_test_scaled[ext_game_mask], y_train_cont, y_test_cont, model, \n",
    "                                        param_grid, cv=indices, scoring_fit = 'neg_mean_squared_error', \n",
    "                                        probabilities = False)\n",
    "\n",
    "#Scores and parameters\n",
    "print(round(np.sqrt(-fitted_model.best_score_), 3))\n",
    "print(fitted_model.best_params_)\n",
    "fits = pd.DataFrame(fitted_model.cv_results_)"
   ]
  },
  {
   "cell_type": "code",
   "execution_count": 52,
   "metadata": {},
   "outputs": [
    {
     "data": {
      "text/plain": [
       "17.39656880550672"
      ]
     },
     "execution_count": 52,
     "metadata": {},
     "output_type": "execute_result"
    }
   ],
   "source": [
    "y_test_cont.std()"
   ]
  },
  {
   "cell_type": "code",
   "execution_count": null,
   "metadata": {},
   "outputs": [],
   "source": [
    "pred_final = fitted_model.predict(X_test_final_num[ext_game_mask])\n"
   ]
  },
  {
   "cell_type": "code",
   "execution_count": null,
   "metadata": {},
   "outputs": [],
   "source": [
    "print(pred_final)"
   ]
  },
  {
   "cell_type": "code",
   "execution_count": null,
   "metadata": {},
   "outputs": [],
   "source": [
    "y_test_cont_final"
   ]
  },
  {
   "cell_type": "code",
   "execution_count": 53,
   "metadata": {},
   "outputs": [
    {
     "name": "stdout",
     "output_type": "stream",
     "text": [
      "Fitting 3 folds for each of 1 candidates, totalling 3 fits\n"
     ]
    },
    {
     "name": "stderr",
     "output_type": "stream",
     "text": [
      "[Parallel(n_jobs=-1)]: Using backend LokyBackend with 4 concurrent workers.\n",
      "[Parallel(n_jobs=-1)]: Done   3 out of   3 | elapsed:    5.9s finished\n"
     ]
    },
    {
     "name": "stdout",
     "output_type": "stream",
     "text": [
      "0.508\n",
      "{'eta': 0.05, 'n_estimators': 800}\n",
      "Wall time: 14.8 s\n"
     ]
    }
   ],
   "source": [
    "%%time\n",
    "model = LGBMClassifier(seed=132)\n",
    "param_grid = {\n",
    "    'eta': [.05],\n",
    "    'n_estimators': [800],\n",
    "}\n",
    "#param_grid = {\n",
    "#    'eta': [.005, .01, .05, .1],\n",
    "#    'n_estimators': [100, 200, 400, 800, 1600],\n",
    "#    'min_child_weight': [.8, 1, 1.2],\n",
    "#    'colsample_bytree': [.8, 1, 1.2],\n",
    "#    'max_depth': [3,4,5, 6, 7, 8, 9, 10, 15],\n",
    "#    'reg_alpha': [.6, .8, .9, 1, 1.1],\n",
    "#    'reg_lambda': [.6, .8, .9, 1, 1.1],\n",
    "#    'subsample': [.6, 0.8, 1]\n",
    "#}\n",
    "\n",
    "fitted_model, pred = algorithm_pipeline(X_train_scaled[ext_game_mask], X_test_scaled[ext_game_mask], y_train, \n",
    "                                        y_test, model, \n",
    "                                 param_grid, cv=indices, scoring_fit = 'accuracy', \n",
    "                                 probabilities = False)\n",
    "\n",
    "#Scores and parameters\n",
    "print(round(fitted_model.best_score_, 3))\n",
    "print(fitted_model.best_params_)\n",
    "fits = pd.DataFrame(fitted_model.cv_results_)"
   ]
  },
  {
   "cell_type": "code",
   "execution_count": 54,
   "metadata": {},
   "outputs": [
    {
     "name": "stdout",
     "output_type": "stream",
     "text": [
      "Fitting 3 folds for each of 1 candidates, totalling 3 fits\n"
     ]
    },
    {
     "name": "stderr",
     "output_type": "stream",
     "text": [
      "[Parallel(n_jobs=-1)]: Using backend LokyBackend with 4 concurrent workers.\n",
      "[Parallel(n_jobs=-1)]: Done   3 out of   3 | elapsed:    0.4s finished\n",
      "C:\\Anaconda3\\lib\\site-packages\\sklearn\\linear_model\\logistic.py:432: FutureWarning: Default solver will be changed to 'lbfgs' in 0.22. Specify a solver to silence this warning.\n",
      "  FutureWarning)\n"
     ]
    },
    {
     "name": "stdout",
     "output_type": "stream",
     "text": [
      "0.701\n",
      "{'max_iter': 1000}\n"
     ]
    }
   ],
   "source": [
    "model = LogisticRegression(random_state=72)\n",
    "param_grid = {\n",
    "    'max_iter': [1000],\n",
    "}\n",
    "#param_grid = {\n",
    "#    'eta': [.005, .01, .05, .1],\n",
    "#    'n_estimators': [100, 200, 400, 800, 1600],\n",
    "#    'min_child_weight': [.8, 1, 1.2],\n",
    "#    'colsample_bytree': [.8, 1, 1.2],\n",
    "#    'max_depth': [3,4,5, 6, 7, 8, 9, 10, 15],\n",
    "#    'reg_alpha': [.6, .8, .9, 1, 1.1],\n",
    "#    'reg_lambda': [.6, .8, .9, 1, 1.1],\n",
    "#    'subsample': [.6, 0.8, 1]\n",
    "#}\n",
    "\n",
    "fitted_model, pred = algorithm_pipeline(X_train_scaled[ext_game_mask], X_test_scaled[ext_game_mask], y_train, \n",
    "                                        y_test, model, \n",
    "                                 param_grid, cv=indices, scoring_fit = 'neg_mean_squared_error', \n",
    "                                 probabilities = False)\n",
    "\n",
    "#Scores and parameters\n",
    "print(round(np.sqrt(-fitted_model.best_score_), 3))\n",
    "print(fitted_model.best_params_)\n",
    "fits = pd.DataFrame(fitted_model.cv_results_)"
   ]
  },
  {
   "cell_type": "code",
   "execution_count": 55,
   "metadata": {},
   "outputs": [
    {
     "data": {
      "text/plain": [
       "0.499967145651772"
      ]
     },
     "execution_count": 55,
     "metadata": {},
     "output_type": "execute_result"
    }
   ],
   "source": [
    "y_test.std()"
   ]
  },
  {
   "cell_type": "code",
   "execution_count": 56,
   "metadata": {},
   "outputs": [
    {
     "name": "stdout",
     "output_type": "stream",
     "text": [
      "Fitting 3 folds for each of 1 candidates, totalling 3 fits\n"
     ]
    },
    {
     "name": "stderr",
     "output_type": "stream",
     "text": [
      "[Parallel(n_jobs=-1)]: Using backend LokyBackend with 4 concurrent workers.\n",
      "[Parallel(n_jobs=-1)]: Done   3 out of   3 | elapsed:    3.0s finished\n"
     ]
    },
    {
     "name": "stdout",
     "output_type": "stream",
     "text": [
      "0.506\n",
      "{'degree': 3}\n"
     ]
    }
   ],
   "source": [
    "model = SVC(random_state=893, kernel = 'rbf')\n",
    "param_grid = {\n",
    "    'degree': [3],\n",
    "}\n",
    "#param_grid = {\n",
    "#    'eta': [.005, .01, .05, .1],\n",
    "#    'n_estimators': [100, 200, 400, 800, 1600],\n",
    "#    'min_child_weight': [.8, 1, 1.2],\n",
    "#    'colsample_bytree': [.8, 1, 1.2],\n",
    "#    'max_depth': [3,4,5, 6, 7, 8, 9, 10, 15],\n",
    "#    'reg_alpha': [.6, .8, .9, 1, 1.1],\n",
    "#    'reg_lambda': [.6, .8, .9, 1, 1.1],\n",
    "#    'subsample': [.6, 0.8, 1]\n",
    "#}\n",
    "\n",
    "fitted_model, pred = algorithm_pipeline(X_train_scaled[ext_game_mask], X_test_scaled[ext_game_mask], y_train, \n",
    "                                        y_test, model, \n",
    "                                 param_grid, cv=indices, scoring_fit = 'accuracy', \n",
    "                                 probabilities = False)\n",
    "\n",
    "#Scores and parameters\n",
    "print(round(fitted_model.best_score_, 3))\n",
    "print(fitted_model.best_params_)\n",
    "fits = pd.DataFrame(fitted_model.cv_results_)"
   ]
  },
  {
   "cell_type": "code",
   "execution_count": 57,
   "metadata": {},
   "outputs": [
    {
     "name": "stdout",
     "output_type": "stream",
     "text": [
      "Fitting 3 folds for each of 1 candidates, totalling 3 fits\n"
     ]
    },
    {
     "name": "stderr",
     "output_type": "stream",
     "text": [
      "[Parallel(n_jobs=-1)]: Using backend LokyBackend with 4 concurrent workers.\n",
      "[Parallel(n_jobs=-1)]: Done   3 out of   3 | elapsed:   13.8s finished\n",
      "C:\\Anaconda3\\lib\\site-packages\\sklearn\\ensemble\\forest.py:245: FutureWarning: The default value of n_estimators will change from 10 in version 0.20 to 100 in 0.22.\n",
      "  \"10 in version 0.20 to 100 in 0.22.\", FutureWarning)\n"
     ]
    },
    {
     "name": "stdout",
     "output_type": "stream",
     "text": [
      "0.505\n",
      "{'max_depth': 2}\n"
     ]
    }
   ],
   "source": [
    "model = RandomForestClassifier(random_state=734)\n",
    "param_grid = {\n",
    "    'max_depth': [2],\n",
    "}\n",
    "#param_grid = {\n",
    "#    'eta': [.005, .01, .05, .1],\n",
    "#    'n_estimators': [100, 200, 400, 800, 1600],\n",
    "#    'min_child_weight': [.8, 1, 1.2],\n",
    "#    'colsample_bytree': [.8, 1, 1.2],\n",
    "#    'max_depth': [3,4,5, 6, 7, 8, 9, 10, 15],\n",
    "#    'reg_alpha': [.6, .8, .9, 1, 1.1],\n",
    "#    'reg_lambda': [.6, .8, .9, 1, 1.1],\n",
    "#    'subsample': [.6, 0.8, 1]\n",
    "#}\n",
    "\n",
    "fitted_model, pred = algorithm_pipeline(X_train_scaled[ext_game_mask], X_test_scaled[ext_game_mask], y_train, \n",
    "                                        y_test, model, \n",
    "                                 param_grid, cv=indices, scoring_fit = 'accuracy', \n",
    "                                 probabilities = False)\n",
    "\n",
    "#Scores and parameters\n",
    "print(round(fitted_model.best_score_, 3))\n",
    "print(fitted_model.best_params_)\n",
    "fits = pd.DataFrame(fitted_model.cv_results_)"
   ]
  },
  {
   "cell_type": "code",
   "execution_count": 58,
   "metadata": {},
   "outputs": [
    {
     "name": "stdout",
     "output_type": "stream",
     "text": [
      "Fitting 3 folds for each of 1 candidates, totalling 3 fits\n"
     ]
    },
    {
     "name": "stderr",
     "output_type": "stream",
     "text": [
      "[Parallel(n_jobs=-1)]: Using backend LokyBackend with 4 concurrent workers.\n"
     ]
    },
    {
     "name": "stdout",
     "output_type": "stream",
     "text": [
      "0.502\n",
      "{'var_smoothing': 1e-09}\n"
     ]
    },
    {
     "name": "stderr",
     "output_type": "stream",
     "text": [
      "[Parallel(n_jobs=-1)]: Done   3 out of   3 | elapsed:    7.3s finished\n"
     ]
    }
   ],
   "source": [
    "model = GaussianNB()\n",
    "param_grid = {\n",
    "    'var_smoothing': [10**-9],\n",
    "}\n",
    "#param_grid = {\n",
    "#    'eta': [.005, .01, .05, .1],\n",
    "#    'n_estimators': [100, 200, 400, 800, 1600],\n",
    "#    'min_child_weight': [.8, 1, 1.2],\n",
    "#    'colsample_bytree': [.8, 1, 1.2],\n",
    "#    'max_depth': [3,4,5, 6, 7, 8, 9, 10, 15],\n",
    "#    'reg_alpha': [.6, .8, .9, 1, 1.1],\n",
    "#    'reg_lambda': [.6, .8, .9, 1, 1.1],\n",
    "#    'subsample': [.6, 0.8, 1]\n",
    "#}\n",
    "\n",
    "fitted_model, pred = algorithm_pipeline(X_train_scaled[ext_game_mask], X_test_scaled[ext_game_mask], y_train, \n",
    "                                        y_test, model, \n",
    "                                 param_grid, cv=indices, scoring_fit = 'accuracy', \n",
    "                                 probabilities = False)\n",
    "\n",
    "#Scores and parameters\n",
    "print(round(fitted_model.best_score_, 3))\n",
    "print(fitted_model.best_params_)\n",
    "fits = pd.DataFrame(fitted_model.cv_results_)"
   ]
  },
  {
   "cell_type": "code",
   "execution_count": 59,
   "metadata": {},
   "outputs": [
    {
     "name": "stdout",
     "output_type": "stream",
     "text": [
      "Accuracy: 52.78%\n"
     ]
    }
   ],
   "source": [
    "pred_final = fitted_model.predict(X_test_final_scaled[ext_game_mask])\n",
    "predictions = [round(value) for value in pred_final]\n",
    "\n",
    "# evaluate prediction\n",
    "accuracy = accuracy_score(y_test_final, predictions)\n",
    "print(\"Accuracy: %.2f%%\" % (accuracy * 100.0))"
   ]
  },
  {
   "cell_type": "code",
   "execution_count": 60,
   "metadata": {},
   "outputs": [
    {
     "name": "stdout",
     "output_type": "stream",
     "text": [
      "Fitting 3 folds for each of 1 candidates, totalling 3 fits\n"
     ]
    },
    {
     "name": "stderr",
     "output_type": "stream",
     "text": [
      "[Parallel(n_jobs=-1)]: Using backend LokyBackend with 4 concurrent workers.\n",
      "[Parallel(n_jobs=-1)]: Done   3 out of   3 | elapsed:    2.1s finished\n"
     ]
    },
    {
     "name": "stdout",
     "output_type": "stream",
     "text": [
      "0.494\n",
      "{'n_neighbors': 35}\n"
     ]
    }
   ],
   "source": [
    "model = KNeighborsClassifier()\n",
    "param_grid = {\n",
    "    #'n_neighbors': np.array(range(25,40)),\n",
    "    'n_neighbors': [35],\n",
    "}\n",
    "#param_grid = {\n",
    "#    'eta': [.005, .01, .05, .1],\n",
    "#    'n_estimators': [100, 200, 400, 800, 1600],\n",
    "#    'min_child_weight': [.8, 1, 1.2],\n",
    "#    'colsample_bytree': [.8, 1, 1.2],\n",
    "#    'max_depth': [3,4,5, 6, 7, 8, 9, 10, 15],\n",
    "#    'reg_alpha': [.6, .8, .9, 1, 1.1],\n",
    "#    'reg_lambda': [.6, .8, .9, 1, 1.1],\n",
    "#    'subsample': [.6, 0.8, 1]\n",
    "#}\n",
    "\n",
    "fitted_model, pred = algorithm_pipeline(X_train_scaled[ext_game_mask], X_test_scaled[ext_game_mask], y_train, \n",
    "                                        y_test, model, \n",
    "                                 param_grid, cv=indices, scoring_fit = 'accuracy', \n",
    "                                 probabilities = False)\n",
    "\n",
    "#Scores and parameters\n",
    "print(round(fitted_model.best_score_, 3))\n",
    "print(fitted_model.best_params_)\n",
    "fits = pd.DataFrame(fitted_model.cv_results_)"
   ]
  },
  {
   "cell_type": "code",
   "execution_count": 65,
   "metadata": {},
   "outputs": [
    {
     "name": "stdout",
     "output_type": "stream",
     "text": [
      "Fitting 3 folds for each of 1 candidates, totalling 3 fits\n"
     ]
    },
    {
     "name": "stderr",
     "output_type": "stream",
     "text": [
      "[Parallel(n_jobs=-1)]: Using backend LokyBackend with 4 concurrent workers.\n"
     ]
    },
    {
     "name": "stdout",
     "output_type": "stream",
     "text": [
      "43709389051663.44\n",
      "{'fit_intercept': True}\n"
     ]
    },
    {
     "name": "stderr",
     "output_type": "stream",
     "text": [
      "[Parallel(n_jobs=-1)]: Done   3 out of   3 | elapsed:   13.7s finished\n",
      "C:\\Anaconda3\\lib\\site-packages\\sklearn\\model_selection\\_search.py:814: DeprecationWarning: The default of the `iid` parameter will change from True to False in version 0.22 and will be removed in 0.24. This will change numeric results when test-set sizes are unequal.\n",
      "  DeprecationWarning)\n"
     ]
    }
   ],
   "source": [
    "model = LinearRegression()\n",
    "param_grid = {\n",
    "    'fit_intercept': [True]\n",
    "    #'n_neighbors': np.array(range(25,40)),\n",
    "    #'estimator': ['ridge', 'lasso'],\n",
    "    #'alpha': [.01, .001, .1]\n",
    "}\n",
    "#param_grid = {\n",
    "#    'eta': [.005, .01, .05, .1],\n",
    "#    'n_estimators': [100, 200, 400, 800, 1600],\n",
    "#    'min_child_weight': [.8, 1, 1.2],\n",
    "#    'colsample_bytree': [.8, 1, 1.2],\n",
    "#    'max_depth': [3,4,5, 6, 7, 8, 9, 10, 15],\n",
    "#    'reg_alpha': [.6, .8, .9, 1, 1.1],\n",
    "#    'reg_lambda': [.6, .8, .9, 1, 1.1],\n",
    "#    'subsample': [.6, 0.8, 1]\n",
    "#}\n",
    "\n",
    "fitted_model, pred = algorithm_pipeline(X_train_scaled[ext_game_mask], X_test_scaled[ext_game_mask], y_train_cont, \n",
    "                                        y_test_cont, model, \n",
    "                                 param_grid, cv=indices, scoring_fit = 'neg_mean_squared_error', \n",
    "                                 probabilities = False)\n",
    "\n",
    "#Scores and parameters\n",
    "print(round(np.sqrt(-fitted_model.best_score_), 3))\n",
    "print(fitted_model.best_params_)\n",
    "fits = pd.DataFrame(fitted_model.cv_results_)"
   ]
  },
  {
   "cell_type": "code",
   "execution_count": null,
   "metadata": {},
   "outputs": [],
   "source": []
  }
 ],
 "metadata": {
  "kernelspec": {
   "display_name": "Python 3",
   "language": "python",
   "name": "python3"
  },
  "language_info": {
   "codemirror_mode": {
    "name": "ipython",
    "version": 3
   },
   "file_extension": ".py",
   "mimetype": "text/x-python",
   "name": "python",
   "nbconvert_exporter": "python",
   "pygments_lexer": "ipython3",
   "version": "3.7.4"
  }
 },
 "nbformat": 4,
 "nbformat_minor": 4
}
