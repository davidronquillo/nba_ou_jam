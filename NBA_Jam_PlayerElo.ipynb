{
 "cells": [
  {
   "cell_type": "code",
   "execution_count": 1,
   "metadata": {},
   "outputs": [],
   "source": [
    "import pandas as pd\n",
    "import numpy as np\n",
    "import matplotlib.pyplot as plt\n",
    "import matplotlib.ticker as ticker\n",
    "from datetime import date\n",
    "import datetime\n",
    "import time\n",
    "\n",
    "from scipy.stats import poisson\n",
    "\n",
    "import nba_api\n",
    "from nba_api.stats.static import teams\n",
    "from nba_api.stats.endpoints import leaguegamefinder\n",
    "from nba_api.stats.endpoints import boxscoreplayertrackv2\n",
    "from nba_api.stats.static import players\n",
    "from nba_api.stats.endpoints import playergamelog\n",
    "from nba_api.stats.endpoints import teamgamelogs\n",
    "from nba_api.stats.endpoints import teamandplayersvsplayers\n",
    "\n",
    "import emcee\n",
    "import corner\n",
    "\n",
    "import pickle\n",
    "\n",
    "import seaborn as sns\n",
    "sns.set()"
   ]
  },
  {
   "cell_type": "code",
   "execution_count": 2,
   "metadata": {},
   "outputs": [],
   "source": [
    "#Elo class\n",
    "class EloSystem:\n",
    "    def __init__(self, k=20):\n",
    "        self.ratings = {}\n",
    "        self.k = k\n",
    "        \n",
    "    def addPlayer(self, id, rating=1500):\n",
    "        self.ratings[id]=rating\n",
    "        \n",
    "    def expectResult(self, p1, p2):\n",
    "        exp = (p2-p1)/400.0\n",
    "        return 1/((10.0**(exp))+1)\n",
    "    \n",
    "    def expectTeamResult(self, t1, t2):\n",
    "        return self.expectResult(self.getTeamRating(t1),self.getTeamRating(t2))\n",
    "    \n",
    "    def addPlayers(self, playerids):\n",
    "        for p in playerids:\n",
    "            self.addPlayer(p)\n",
    "\n",
    "    def getTeamRating(self, players):\n",
    "        for p in players:\n",
    "            if p not in self.ratings:\n",
    "                self.addPlayer(p)\n",
    "        return np.average([self.ratings[x] for x in players])\n",
    "    \n",
    "    def addTeamResult(self, winner, loser, winScore=0, loseScore=0):\n",
    "        winRating = self.getTeamRating(winner)\n",
    "        loseRating = self.getTeamRating(loser)\n",
    "        result = self.expectResult(winRating, loseRating)\n",
    "        for w in winner:\n",
    "            self.ratings[w] += self.k*(1-result)\n",
    "        for w in loser:\n",
    "            self.ratings[w] += self.k*(1-result)\n",
    "    \n",
    "    def getAllRatings(self):\n",
    "        return self.ratings\n",
    "    \n",
    "    def getRating(self, id):\n",
    "        return self.ratings[id]"
   ]
  },
  {
   "cell_type": "code",
   "execution_count": 27,
   "metadata": {
    "scrolled": true
   },
   "outputs": [],
   "source": [
    "#Initialize\n",
    "elo = EloSystem()\n",
    "player_dict = players.get_players()"
   ]
  },
  {
   "cell_type": "code",
   "execution_count": 4,
   "metadata": {},
   "outputs": [],
   "source": [
    "#2015-2016 regular season start and end dates\n",
    "start_15_16 = '2015-10-27'\n",
    "end_15_16 = '2016-04-13'\n",
    "#2016-2017 regular season start and end dates\n",
    "start_16_17 = '2016-10-25'\n",
    "end_16_17 = '2017-04-12'\n",
    "#2016-2017 regular season start and end dates\n",
    "start_17_18 = '2017-10-17'\n",
    "end_17_18 = '2018-04-11'\n",
    "#2018-2019 regular season start and end dates\n",
    "start_18_19 = '2018-10-16'\n",
    "end_18_19 = '2019-04-10'"
   ]
  },
  {
   "cell_type": "code",
   "execution_count": 5,
   "metadata": {},
   "outputs": [],
   "source": [
    "#dates defining training and testing sets\n",
    "start_15_16_train = '2015-10-27'\n",
    "end_15_16_train = '2016-02-1'\n",
    "\n",
    "start_15_16_test = '2016-02-2'\n",
    "end_15_16_test = '2016-04-13'"
   ]
  },
  {
   "cell_type": "code",
   "execution_count": 6,
   "metadata": {},
   "outputs": [
    {
     "data": {
      "text/html": [
       "<div>\n",
       "<style scoped>\n",
       "    .dataframe tbody tr th:only-of-type {\n",
       "        vertical-align: middle;\n",
       "    }\n",
       "\n",
       "    .dataframe tbody tr th {\n",
       "        vertical-align: top;\n",
       "    }\n",
       "\n",
       "    .dataframe thead th {\n",
       "        text-align: right;\n",
       "    }\n",
       "</style>\n",
       "<table border=\"1\" class=\"dataframe\">\n",
       "  <thead>\n",
       "    <tr style=\"text-align: right;\">\n",
       "      <th></th>\n",
       "      <th>TEAM_ID</th>\n",
       "      <th>full_name</th>\n",
       "      <th>abbreviation</th>\n",
       "      <th>nickname</th>\n",
       "      <th>city</th>\n",
       "      <th>state</th>\n",
       "      <th>year_founded</th>\n",
       "    </tr>\n",
       "  </thead>\n",
       "  <tbody>\n",
       "    <tr>\n",
       "      <th>0</th>\n",
       "      <td>1610612737</td>\n",
       "      <td>Atlanta Hawks</td>\n",
       "      <td>ATL</td>\n",
       "      <td>Hawks</td>\n",
       "      <td>Atlanta</td>\n",
       "      <td>Atlanta</td>\n",
       "      <td>1949</td>\n",
       "    </tr>\n",
       "    <tr>\n",
       "      <th>1</th>\n",
       "      <td>1610612738</td>\n",
       "      <td>Boston Celtics</td>\n",
       "      <td>BOS</td>\n",
       "      <td>Celtics</td>\n",
       "      <td>Boston</td>\n",
       "      <td>Massachusetts</td>\n",
       "      <td>1946</td>\n",
       "    </tr>\n",
       "    <tr>\n",
       "      <th>2</th>\n",
       "      <td>1610612739</td>\n",
       "      <td>Cleveland Cavaliers</td>\n",
       "      <td>CLE</td>\n",
       "      <td>Cavaliers</td>\n",
       "      <td>Cleveland</td>\n",
       "      <td>Ohio</td>\n",
       "      <td>1970</td>\n",
       "    </tr>\n",
       "    <tr>\n",
       "      <th>3</th>\n",
       "      <td>1610612740</td>\n",
       "      <td>New Orleans Pelicans</td>\n",
       "      <td>NOP</td>\n",
       "      <td>Pelicans</td>\n",
       "      <td>New Orleans</td>\n",
       "      <td>Louisiana</td>\n",
       "      <td>2002</td>\n",
       "    </tr>\n",
       "    <tr>\n",
       "      <th>4</th>\n",
       "      <td>1610612741</td>\n",
       "      <td>Chicago Bulls</td>\n",
       "      <td>CHI</td>\n",
       "      <td>Bulls</td>\n",
       "      <td>Chicago</td>\n",
       "      <td>Illinois</td>\n",
       "      <td>1966</td>\n",
       "    </tr>\n",
       "  </tbody>\n",
       "</table>\n",
       "</div>"
      ],
      "text/plain": [
       "      TEAM_ID             full_name abbreviation   nickname         city  \\\n",
       "0  1610612737         Atlanta Hawks          ATL      Hawks      Atlanta   \n",
       "1  1610612738        Boston Celtics          BOS    Celtics       Boston   \n",
       "2  1610612739   Cleveland Cavaliers          CLE  Cavaliers    Cleveland   \n",
       "3  1610612740  New Orleans Pelicans          NOP   Pelicans  New Orleans   \n",
       "4  1610612741         Chicago Bulls          CHI      Bulls      Chicago   \n",
       "\n",
       "           state  year_founded  \n",
       "0        Atlanta          1949  \n",
       "1  Massachusetts          1946  \n",
       "2           Ohio          1970  \n",
       "3      Louisiana          2002  \n",
       "4       Illinois          1966  "
      ]
     },
     "execution_count": 6,
     "metadata": {},
     "output_type": "execute_result"
    }
   ],
   "source": [
    "teams_df = pd.DataFrame(teams.get_teams())\n",
    "teams_df.rename(columns={'id':'TEAM_ID'}, inplace=True)\n",
    "teams_df.head()"
   ]
  },
  {
   "cell_type": "code",
   "execution_count": 10,
   "metadata": {},
   "outputs": [],
   "source": [
    "# Get **all** the games so we can filter to an individual GAME_ID\n",
    "result = leaguegamefinder.LeagueGameFinder()\n",
    "all_games = result.get_data_frames()[0]\n"
   ]
  },
  {
   "cell_type": "code",
   "execution_count": 11,
   "metadata": {},
   "outputs": [],
   "source": [
    "#match NBA teams from 'teams_df' with 'all_games' to remove\n",
    "#all non NBA-games from 'all_games' \n",
    "nba_games = pd.merge(teams_df, all_games, on = 'TEAM_ID', how = 'inner')\n"
   ]
  },
  {
   "cell_type": "code",
   "execution_count": 12,
   "metadata": {},
   "outputs": [],
   "source": [
    "#function searches rows in 'nba_games' df sharing same 'GAME_ID' and sums PTS\n",
    "#to obtain sum of final score\n",
    "def total_pts_game(id_game):\n",
    "    return np.sum(nba_games.loc[nba_games['GAME_ID'] == str(id_game)][['PTS']])"
   ]
  },
  {
   "cell_type": "code",
   "execution_count": 13,
   "metadata": {},
   "outputs": [],
   "source": [
    "#uses 'total_pts_game' function to create df of sum of final score for\n",
    "#all games in 'nba_games' df\n",
    "total_points = pd.DataFrame(list(map(lambda x : total_pts_game(nba_games['GAME_ID'][x]), list(range(len(nba_games))))))"
   ]
  },
  {
   "cell_type": "code",
   "execution_count": 14,
   "metadata": {},
   "outputs": [
    {
     "data": {
      "text/html": [
       "<div>\n",
       "<style scoped>\n",
       "    .dataframe tbody tr th:only-of-type {\n",
       "        vertical-align: middle;\n",
       "    }\n",
       "\n",
       "    .dataframe tbody tr th {\n",
       "        vertical-align: top;\n",
       "    }\n",
       "\n",
       "    .dataframe thead th {\n",
       "        text-align: right;\n",
       "    }\n",
       "</style>\n",
       "<table border=\"1\" class=\"dataframe\">\n",
       "  <thead>\n",
       "    <tr style=\"text-align: right;\">\n",
       "      <th></th>\n",
       "      <th>TEAM_ID</th>\n",
       "      <th>full_name</th>\n",
       "      <th>abbreviation</th>\n",
       "      <th>nickname</th>\n",
       "      <th>city</th>\n",
       "      <th>state</th>\n",
       "      <th>year_founded</th>\n",
       "      <th>SEASON_ID</th>\n",
       "      <th>TEAM_ABBREVIATION</th>\n",
       "      <th>TEAM_NAME</th>\n",
       "      <th>...</th>\n",
       "      <th>OREB</th>\n",
       "      <th>DREB</th>\n",
       "      <th>REB</th>\n",
       "      <th>AST</th>\n",
       "      <th>STL</th>\n",
       "      <th>BLK</th>\n",
       "      <th>TOV</th>\n",
       "      <th>PF</th>\n",
       "      <th>PLUS_MINUS</th>\n",
       "      <th>COMBINED_FINAL_SCORE</th>\n",
       "    </tr>\n",
       "  </thead>\n",
       "  <tbody>\n",
       "    <tr>\n",
       "      <th>0</th>\n",
       "      <td>1610612737</td>\n",
       "      <td>Atlanta Hawks</td>\n",
       "      <td>ATL</td>\n",
       "      <td>Hawks</td>\n",
       "      <td>Atlanta</td>\n",
       "      <td>Atlanta</td>\n",
       "      <td>1949</td>\n",
       "      <td>22019</td>\n",
       "      <td>ATL</td>\n",
       "      <td>Atlanta Hawks</td>\n",
       "      <td>...</td>\n",
       "      <td>15</td>\n",
       "      <td>38</td>\n",
       "      <td>53</td>\n",
       "      <td>26</td>\n",
       "      <td>6</td>\n",
       "      <td>3</td>\n",
       "      <td>17</td>\n",
       "      <td>25</td>\n",
       "      <td>0.0</td>\n",
       "      <td>267</td>\n",
       "    </tr>\n",
       "    <tr>\n",
       "      <th>1</th>\n",
       "      <td>1610612737</td>\n",
       "      <td>Atlanta Hawks</td>\n",
       "      <td>ATL</td>\n",
       "      <td>Hawks</td>\n",
       "      <td>Atlanta</td>\n",
       "      <td>Atlanta</td>\n",
       "      <td>1949</td>\n",
       "      <td>22019</td>\n",
       "      <td>ATL</td>\n",
       "      <td>Atlanta Hawks</td>\n",
       "      <td>...</td>\n",
       "      <td>12</td>\n",
       "      <td>41</td>\n",
       "      <td>53</td>\n",
       "      <td>33</td>\n",
       "      <td>1</td>\n",
       "      <td>5</td>\n",
       "      <td>15</td>\n",
       "      <td>26</td>\n",
       "      <td>5.0</td>\n",
       "      <td>281</td>\n",
       "    </tr>\n",
       "    <tr>\n",
       "      <th>2</th>\n",
       "      <td>1610612737</td>\n",
       "      <td>Atlanta Hawks</td>\n",
       "      <td>ATL</td>\n",
       "      <td>Hawks</td>\n",
       "      <td>Atlanta</td>\n",
       "      <td>Atlanta</td>\n",
       "      <td>1949</td>\n",
       "      <td>22019</td>\n",
       "      <td>ATL</td>\n",
       "      <td>Atlanta Hawks</td>\n",
       "      <td>...</td>\n",
       "      <td>14</td>\n",
       "      <td>32</td>\n",
       "      <td>46</td>\n",
       "      <td>23</td>\n",
       "      <td>9</td>\n",
       "      <td>2</td>\n",
       "      <td>14</td>\n",
       "      <td>24</td>\n",
       "      <td>-17.0</td>\n",
       "      <td>219</td>\n",
       "    </tr>\n",
       "    <tr>\n",
       "      <th>3</th>\n",
       "      <td>1610612737</td>\n",
       "      <td>Atlanta Hawks</td>\n",
       "      <td>ATL</td>\n",
       "      <td>Hawks</td>\n",
       "      <td>Atlanta</td>\n",
       "      <td>Atlanta</td>\n",
       "      <td>1949</td>\n",
       "      <td>22019</td>\n",
       "      <td>ATL</td>\n",
       "      <td>Atlanta Hawks</td>\n",
       "      <td>...</td>\n",
       "      <td>6</td>\n",
       "      <td>30</td>\n",
       "      <td>36</td>\n",
       "      <td>25</td>\n",
       "      <td>9</td>\n",
       "      <td>4</td>\n",
       "      <td>17</td>\n",
       "      <td>25</td>\n",
       "      <td>-6.0</td>\n",
       "      <td>230</td>\n",
       "    </tr>\n",
       "    <tr>\n",
       "      <th>4</th>\n",
       "      <td>1610612737</td>\n",
       "      <td>Atlanta Hawks</td>\n",
       "      <td>ATL</td>\n",
       "      <td>Hawks</td>\n",
       "      <td>Atlanta</td>\n",
       "      <td>Atlanta</td>\n",
       "      <td>1949</td>\n",
       "      <td>22019</td>\n",
       "      <td>ATL</td>\n",
       "      <td>Atlanta Hawks</td>\n",
       "      <td>...</td>\n",
       "      <td>16</td>\n",
       "      <td>27</td>\n",
       "      <td>43</td>\n",
       "      <td>20</td>\n",
       "      <td>6</td>\n",
       "      <td>8</td>\n",
       "      <td>17</td>\n",
       "      <td>21</td>\n",
       "      <td>-39.0</td>\n",
       "      <td>215</td>\n",
       "    </tr>\n",
       "  </tbody>\n",
       "</table>\n",
       "<p>5 rows × 35 columns</p>\n",
       "</div>"
      ],
      "text/plain": [
       "      TEAM_ID      full_name abbreviation nickname     city    state  \\\n",
       "0  1610612737  Atlanta Hawks          ATL    Hawks  Atlanta  Atlanta   \n",
       "1  1610612737  Atlanta Hawks          ATL    Hawks  Atlanta  Atlanta   \n",
       "2  1610612737  Atlanta Hawks          ATL    Hawks  Atlanta  Atlanta   \n",
       "3  1610612737  Atlanta Hawks          ATL    Hawks  Atlanta  Atlanta   \n",
       "4  1610612737  Atlanta Hawks          ATL    Hawks  Atlanta  Atlanta   \n",
       "\n",
       "   year_founded SEASON_ID TEAM_ABBREVIATION      TEAM_NAME  ... OREB DREB REB  \\\n",
       "0          1949     22019               ATL  Atlanta Hawks  ...   15   38  53   \n",
       "1          1949     22019               ATL  Atlanta Hawks  ...   12   41  53   \n",
       "2          1949     22019               ATL  Atlanta Hawks  ...   14   32  46   \n",
       "3          1949     22019               ATL  Atlanta Hawks  ...    6   30  36   \n",
       "4          1949     22019               ATL  Atlanta Hawks  ...   16   27  43   \n",
       "\n",
       "  AST  STL  BLK  TOV  PF  PLUS_MINUS  COMBINED_FINAL_SCORE  \n",
       "0  26    6    3   17  25         0.0                   267  \n",
       "1  33    1    5   15  26         5.0                   281  \n",
       "2  23    9    2   14  24       -17.0                   219  \n",
       "3  25    9    4   17  25        -6.0                   230  \n",
       "4  20    6    8   17  21       -39.0                   215  \n",
       "\n",
       "[5 rows x 35 columns]"
      ]
     },
     "execution_count": 14,
     "metadata": {},
     "output_type": "execute_result"
    }
   ],
   "source": [
    "#appends new column to 'nba_games' df containing combined final score per game\n",
    "nba_games['COMBINED_FINAL_SCORE'] = total_points\n",
    "nba_games.head()"
   ]
  },
  {
   "cell_type": "code",
   "execution_count": 15,
   "metadata": {},
   "outputs": [],
   "source": [
    "# IDK why\n",
    "nba_games = nba_games.set_index(\"GAME_ID\")\n",
    "# set it to something \n",
    "nba_games['ELODIFF'] = pd.Series(np.zeros(len(nba_games)), index=nba_games.index)"
   ]
  },
  {
   "cell_type": "code",
   "execution_count": 16,
   "metadata": {},
   "outputs": [],
   "source": [
    "#mask to filter dates within range\n",
    "mask_15_16 = (nba_games['GAME_DATE'] >= start_15_16) & (nba_games['GAME_DATE'] <= end_15_16)\n",
    "mask_16_17 = (nba_games['GAME_DATE'] >= start_16_17) & (nba_games['GAME_DATE'] <= end_16_17)\n",
    "mask_17_18 = (nba_games['GAME_DATE'] >= start_17_18) & (nba_games['GAME_DATE'] <= end_17_18)\n",
    "mask_18_19 = (nba_games['GAME_DATE'] >= start_18_19) & (nba_games['GAME_DATE'] <= end_18_19)"
   ]
  },
  {
   "cell_type": "code",
   "execution_count": 17,
   "metadata": {},
   "outputs": [],
   "source": [
    "mask_15_16_train = (nba_games['GAME_DATE'] >= start_15_16_train) & (nba_games['GAME_DATE'] <= end_15_16_train)\n",
    "mask_15_16_test  = (nba_games['GAME_DATE'] >= start_15_16_test)  & (nba_games['GAME_DATE'] <= end_15_16_test)\n",
    "#regular season games held between given seasons\n",
    "nba_games_15_16 = nba_games.loc[mask_15_16]\n",
    "nba_games_16_17 = nba_games.loc[mask_16_17]\n",
    "nba_games_17_18 = nba_games.loc[mask_17_18]\n",
    "nba_games_18_19 = nba_games.loc[mask_18_19]\n",
    "nba_games_15_16_train = nba_games.loc[mask_15_16_train]\n",
    "nba_games_15_16_test = nba_games.loc[mask_15_16_test]"
   ]
  },
  {
   "cell_type": "code",
   "execution_count": 30,
   "metadata": {},
   "outputs": [
    {
     "name": "stdout",
     "output_type": "stream",
     "text": [
      "379\n"
     ]
    }
   ],
   "source": [
    "# Generate current elo from train data\n",
    "# Could timeout, needs fix\n",
    "# TOFIX: better way to get players in a given game\n",
    "numProcessed=0\n",
    "for game, row in nba_games_15_16.sort_values(by=['GAME_DATE']).iterrows():\n",
    "    try:\n",
    "        res = boxscoreplayertrackv2.BoxScorePlayerTrackV2(game_id=game, timeout=1)\n",
    "        numProcessed+=1\n",
    "    except:\n",
    "        print(numProcessed)\n",
    "        break\n",
    "    involved_players = res.get_data_frames()[0]   \n",
    "    # involved_players = involved_players['PLAYER_ID']\n",
    "    T1, T2 = involved_players.TEAM_ID.unique()[:2]\n",
    "    if T1 != row['TEAM_ID']:\n",
    "        T1,T2=T2,T1\n",
    "    T1Players = involved_players.loc[involved_players['TEAM_ID']==T1].PLAYER_ID.unique()\n",
    "    T2Players = involved_players.loc[involved_players['TEAM_ID']==T2].PLAYER_ID.unique()\n",
    "    nba_games_15_16.at[game,'ELODIFF'] = elo.getTeamRating(T1Players) - elo.getTeamRating(T2Players)\n",
    "    if row['WL'] == 'W':\n",
    "        elo.addTeamResult(T1Players,T1Players)\n",
    "    else:\n",
    "        elo.addTeamResult(T2Players,T1Players)\n",
    "    time.sleep(0.1)"
   ]
  },
  {
   "cell_type": "code",
   "execution_count": 40,
   "metadata": {},
   "outputs": [],
   "source": [
    "nba_games['PROCESSED'] = np.abs(nba_games['ELODIFF'])"
   ]
  },
  {
   "cell_type": "code",
   "execution_count": 41,
   "metadata": {},
   "outputs": [
    {
     "name": "stderr",
     "output_type": "stream",
     "text": [
      "'c' argument looks like a single numeric RGB or RGBA sequence, which should be avoided as value-mapping will have precedence in case its length matches with 'x' & 'y'.  Please use a 2-D array with a single row if you really want to specify the same RGB or RGBA value for all points.\n"
     ]
    },
    {
     "data": {
      "image/png": "[encoded data removed]",
      "text/plain": [
       "<Figure size 1152x576 with 1 Axes>"
      ]
     },
     "metadata": {},
     "output_type": "display_data"
    }
   ],
   "source": [
    "plt.figure(figsize=(16, 8))\n",
    "nba_games_15_16.loc[nba_games_15_16['ELODIFF']!=0].plot.scatter(x=\"PROCESSED\", y=\"COMBINED_FINAL_SCORE\", alpha=0.6, ax=plt.gca())\n",
    "plt.xlabel(\"Elo difference\", fontsize=30)\n",
    "plt.ylabel(\"Total points\", fontsize=30)\n",
    "plt.title(\"Total points versus Elo difference\", fontsize=32)\n",
    "plt.gca().tick_params(axis='both', which='major', labelsize=20)\n",
    "plt.gca().tick_params(axis='both', which='minor', labelsize=20)\n",
    "plt.show()"
   ]
  },
  {
   "cell_type": "code",
   "execution_count": 53,
   "metadata": {},
   "outputs": [],
   "source": [
    "from sklearn.linear_model import LinearRegression\n",
    "reg = LinearRegression(copy_X = True)"
   ]
  },
  {
   "cell_type": "code",
   "execution_count": 46,
   "metadata": {},
   "outputs": [
    {
     "data": {
      "text/plain": [
       "LinearRegression()"
      ]
     },
     "execution_count": 46,
     "metadata": {},
     "output_type": "execute_result"
    }
   ],
   "source": [
    "reg.fit(outcomes_df[['e','balance']],outcomes_df['score'])"
   ]
  },
  {
   "cell_type": "code",
   "execution_count": 47,
   "metadata": {},
   "outputs": [],
   "source": [
    "pred = reg.predict(outcomes_df[['e','balance']])"
   ]
  },
  {
   "cell_type": "code",
   "execution_count": null,
   "metadata": {},
   "outputs": [],
   "source": []
  }
 ],
 "metadata": {
  "kernelspec": {
   "display_name": "Python 3",
   "language": "python",
   "name": "python3"
  },
  "language_info": {
   "codemirror_mode": {
    "name": "ipython",
    "version": 3
   },
   "file_extension": ".py",
   "mimetype": "text/x-python",
   "name": "python",
   "nbconvert_exporter": "python",
   "pygments_lexer": "ipython3",
   "version": "3.7.6"
  }
 },
 "nbformat": 4,
 "nbformat_minor": 4
}
