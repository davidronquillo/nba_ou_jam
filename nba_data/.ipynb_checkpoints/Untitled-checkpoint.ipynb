{
 "cells": [
  {
   "cell_type": "code",
   "execution_count": 2,
   "metadata": {},
   "outputs": [],
   "source": [
    "# This imports the client\n",
    "from basketball_reference_web_scraper import client"
   ]
  },
  {
   "cell_type": "code",
   "execution_count": 3,
   "metadata": {},
   "outputs": [],
   "source": [
    "# This imports the Team enum\n",
    "from basketball_reference_web_scraper.data import Team"
   ]
  },
  {
   "cell_type": "code",
   "execution_count": 5,
   "metadata": {},
   "outputs": [],
   "source": [
    "from basketball_reference_web_scraper import client\n",
    "from basketball_reference_web_scraper.data import Team\n",
    "\n",
    "# Get play-by-play data for 2018-10-16 game played at the Boston Celtics\n",
    "play_by_play = client.play_by_play(\n",
    "    home_team=Team.BOSTON_CELTICS,\n",
    "    year=2018,\n",
    "    month=10,\n",
    "    day=16,\n",
    ")"
   ]
  },
  {
   "cell_type": "code",
   "execution_count": 8,
   "metadata": {},
   "outputs": [
    {
     "name": "stdout",
     "output_type": "stream",
     "text": [
      "***** GAMES *****\n",
      "{'start_time': datetime.datetime(2015, 10, 28, 0, 0, tzinfo=<UTC>), 'away_team': <Team.CLEVELAND_CAVALIERS: 'CLEVELAND CAVALIERS'>, 'home_team': <Team.CHICAGO_BULLS: 'CHICAGO BULLS'>, 'away_team_score': 95, 'home_team_score': 97}\n",
      "{'start_time': datetime.datetime(2015, 10, 28, 0, 0, tzinfo=<UTC>), 'away_team': <Team.DETROIT_PISTONS: 'DETROIT PISTONS'>, 'home_team': <Team.ATLANTA_HAWKS: 'ATLANTA HAWKS'>, 'away_team_score': 106, 'home_team_score': 94}\n",
      "{'start_time': datetime.datetime(2015, 10, 28, 2, 30, tzinfo=<UTC>), 'away_team': <Team.NEW_ORLEANS_PELICANS: 'NEW ORLEANS PELICANS'>, 'home_team': <Team.GOLDEN_STATE_WARRIORS: 'GOLDEN STATE WARRIORS'>, 'away_team_score': 95, 'home_team_score': 111}\n",
      "{'start_time': datetime.datetime(2015, 10, 28, 23, 0, tzinfo=<UTC>), 'away_team': <Team.WASHINGTON_WIZARDS: 'WASHINGTON WIZARDS'>, 'home_team': <Team.ORLANDO_MAGIC: 'ORLANDO MAGIC'>, 'away_team_score': 88, 'home_team_score': 87}\n",
      "{'start_time': datetime.datetime(2015, 10, 28, 23, 30, tzinfo=<UTC>), 'away_team': <Team.PHILADELPHIA_76ERS: 'PHILADELPHIA 76ERS'>, 'home_team': <Team.BOSTON_CELTICS: 'BOSTON CELTICS'>, 'away_team_score': 95, 'home_team_score': 112}\n",
      "{'start_time': datetime.datetime(2015, 10, 28, 23, 30, tzinfo=<UTC>), 'away_team': <Team.CHICAGO_BULLS: 'CHICAGO BULLS'>, 'home_team': <Team.BROOKLYN_NETS: 'BROOKLYN NETS'>, 'away_team_score': 115, 'home_team_score': 100}\n",
      "{'start_time': datetime.datetime(2015, 10, 28, 23, 30, tzinfo=<UTC>), 'away_team': <Team.UTAH_JAZZ: 'UTAH JAZZ'>, 'home_team': <Team.DETROIT_PISTONS: 'DETROIT PISTONS'>, 'away_team_score': 87, 'home_team_score': 92}\n",
      "{'start_time': datetime.datetime(2015, 10, 28, 23, 30, tzinfo=<UTC>), 'away_team': <Team.INDIANA_PACERS: 'INDIANA PACERS'>, 'home_team': <Team.TORONTO_RAPTORS: 'TORONTO RAPTORS'>, 'away_team_score': 99, 'home_team_score': 106}\n",
      "{'start_time': datetime.datetime(2015, 10, 28, 23, 30, tzinfo=<UTC>), 'away_team': <Team.CHARLOTTE_HORNETS: 'CHARLOTTE HORNETS'>, 'home_team': <Team.MIAMI_HEAT: 'MIAMI HEAT'>, 'away_team_score': 94, 'home_team_score': 104}\n",
      "{'start_time': datetime.datetime(2015, 10, 29, 0, 0, tzinfo=<UTC>), 'away_team': <Team.NEW_YORK_KNICKS: 'NEW YORK KNICKS'>, 'home_team': <Team.MILWAUKEE_BUCKS: 'MILWAUKEE BUCKS'>, 'away_team_score': 122, 'home_team_score': 97}\n"
     ]
    }
   ],
   "source": [
    "print('***** GAMES *****')\n",
    "games = client.season_schedule(season_end_year=2016)\n",
    "for game in games[:10]:\n",
    "   print(game)"
   ]
  },
  {
   "cell_type": "code",
   "execution_count": 11,
   "metadata": {},
   "outputs": [
    {
     "ename": "AttributeError",
     "evalue": "module 'basketball_reference_web_scraper.client' has no attribute 'referee'",
     "output_type": "error",
     "traceback": [
      "\u001b[0;31m---------------------------------------------------------------------------\u001b[0m",
      "\u001b[0;31mAttributeError\u001b[0m                            Traceback (most recent call last)",
      "\u001b[0;32m<ipython-input-11-18d42a8280b3>\u001b[0m in \u001b[0;36m<module>\u001b[0;34m\u001b[0m\n\u001b[0;32m----> 1\u001b[0;31m \u001b[0mrefs\u001b[0m \u001b[0;34m=\u001b[0m \u001b[0mclient\u001b[0m\u001b[0;34m.\u001b[0m\u001b[0mreferee\u001b[0m\u001b[0;34m\u001b[0m\u001b[0;34m\u001b[0m\u001b[0m\n\u001b[0m",
      "\u001b[0;31mAttributeError\u001b[0m: module 'basketball_reference_web_scraper.client' has no attribute 'referee'"
     ]
    }
   ],
   "source": [
    "refs = client.referee"
   ]
  },
  {
   "cell_type": "code",
   "execution_count": null,
   "metadata": {},
   "outputs": [],
   "source": []
  }
 ],
 "metadata": {
  "kernelspec": {
   "display_name": "Python 3",
   "language": "python",
   "name": "python3"
  },
  "language_info": {
   "codemirror_mode": {
    "name": "ipython",
    "version": 3
   },
   "file_extension": ".py",
   "mimetype": "text/x-python",
   "name": "python",
   "nbconvert_exporter": "python",
   "pygments_lexer": "ipython3",
   "version": "3.6.8"
  }
 },
 "nbformat": 4,
 "nbformat_minor": 2
}
