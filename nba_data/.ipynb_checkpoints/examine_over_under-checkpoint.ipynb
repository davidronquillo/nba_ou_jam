{
 "cells": [
  {
   "cell_type": "code",
   "execution_count": 1,
   "metadata": {},
   "outputs": [],
   "source": [
    "import numpy as np\n",
    "import matplotlib.pyplot as plt\n",
    "import seaborn as sns\n",
    "sns.set()\n",
    "import pandas as pd"
   ]
  },
  {
   "cell_type": "code",
   "execution_count": 11,
   "metadata": {},
   "outputs": [
    {
     "data": {
      "text/html": [
       "<div>\n",
       "<style scoped>\n",
       "    .dataframe tbody tr th:only-of-type {\n",
       "        vertical-align: middle;\n",
       "    }\n",
       "\n",
       "    .dataframe tbody tr th {\n",
       "        vertical-align: top;\n",
       "    }\n",
       "\n",
       "    .dataframe thead th {\n",
       "        text-align: right;\n",
       "    }\n",
       "</style>\n",
       "<table border=\"1\" class=\"dataframe\">\n",
       "  <thead>\n",
       "    <tr style=\"text-align: right;\">\n",
       "      <th></th>\n",
       "      <th>date</th>\n",
       "      <th>team</th>\n",
       "      <th>points</th>\n",
       "      <th>opposing_team</th>\n",
       "      <th>opposing_points</th>\n",
       "      <th>over_under_line</th>\n",
       "    </tr>\n",
       "  </thead>\n",
       "  <tbody>\n",
       "    <tr>\n",
       "      <th>0</th>\n",
       "      <td>20151027</td>\n",
       "      <td>Bulls</td>\n",
       "      <td>97</td>\n",
       "      <td>Cavaliers</td>\n",
       "      <td>95</td>\n",
       "      <td>197.5</td>\n",
       "    </tr>\n",
       "    <tr>\n",
       "      <th>1</th>\n",
       "      <td>20151027</td>\n",
       "      <td>Cavaliers</td>\n",
       "      <td>95</td>\n",
       "      <td>Bulls</td>\n",
       "      <td>97</td>\n",
       "      <td>197.5</td>\n",
       "    </tr>\n",
       "    <tr>\n",
       "      <th>2</th>\n",
       "      <td>20151027</td>\n",
       "      <td>Hawks</td>\n",
       "      <td>94</td>\n",
       "      <td>Pistons</td>\n",
       "      <td>106</td>\n",
       "      <td>197.5</td>\n",
       "    </tr>\n",
       "    <tr>\n",
       "      <th>3</th>\n",
       "      <td>20151027</td>\n",
       "      <td>Pistons</td>\n",
       "      <td>106</td>\n",
       "      <td>Hawks</td>\n",
       "      <td>94</td>\n",
       "      <td>197.5</td>\n",
       "    </tr>\n",
       "    <tr>\n",
       "      <th>4</th>\n",
       "      <td>20151027</td>\n",
       "      <td>Warriors</td>\n",
       "      <td>111</td>\n",
       "      <td>Pelicans</td>\n",
       "      <td>95</td>\n",
       "      <td>213.5</td>\n",
       "    </tr>\n",
       "  </tbody>\n",
       "</table>\n",
       "</div>"
      ],
      "text/plain": [
       "       date       team  points opposing_team  opposing_points  over_under_line\n",
       "0  20151027      Bulls      97     Cavaliers               95            197.5\n",
       "1  20151027  Cavaliers      95         Bulls               97            197.5\n",
       "2  20151027      Hawks      94       Pistons              106            197.5\n",
       "3  20151027    Pistons     106         Hawks               94            197.5\n",
       "4  20151027   Warriors     111      Pelicans               95            213.5"
      ]
     },
     "execution_count": 11,
     "metadata": {},
     "output_type": "execute_result"
    }
   ],
   "source": [
    "nba_df = pd.read_csv('sdql_nba_2015.csv')\n",
    "nba_df = nba_df.rename(columns={\"total\": \"over_under_line\", \"o:team\": \"opposing_team\", \"o:points\": \"opposing_points\"})\n",
    "nba_df.head()"
   ]
  },
  {
   "cell_type": "code",
   "execution_count": 19,
   "metadata": {},
   "outputs": [],
   "source": [
    "nba_df['total_points'] = nba_df['points'] + nba_df['opposing_points']\n",
    "nba_df['bet_margin'] = nba_df['over_under_line'] - nba_df['total_points']"
   ]
  },
  {
   "cell_type": "code",
   "execution_count": 31,
   "metadata": {},
   "outputs": [
    {
     "data": {
      "image/png": "[encoded data removed]",
      "text/plain": [
       "<Figure size 432x288 with 1 Axes>"
      ]
     },
     "metadata": {
      "needs_background": "light"
     },
     "output_type": "display_data"
    }
   ],
   "source": [
    "bins = np.linspace(-100, 100, 21)\n",
    "prob, _, _ = plt.hist(nba_df['bet_margin'], density=True, bins=bins)\n",
    "plt.ylabel('probability')\n",
    "plt.xlabel('over/under - total points')\n",
    "plt.title('2015-2016')\n",
    "plt.show()"
   ]
  },
  {
   "cell_type": "code",
   "execution_count": null,
   "metadata": {},
   "outputs": [],
   "source": []
  }
 ],
 "metadata": {
  "kernelspec": {
   "display_name": "Python 3",
   "language": "python",
   "name": "python3"
  },
  "language_info": {
   "codemirror_mode": {
    "name": "ipython",
    "version": 3
   },
   "file_extension": ".py",
   "mimetype": "text/x-python",
   "name": "python",
   "nbconvert_exporter": "python",
   "pygments_lexer": "ipython3",
   "version": "3.6.8"
  }
 },
 "nbformat": 4,
 "nbformat_minor": 2
}
